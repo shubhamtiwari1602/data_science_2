{
 "cells": [
  {
   "cell_type": "code",
   "execution_count": 1,
   "metadata": {},
   "outputs": [
    {
     "name": "stdout",
     "output_type": "stream",
     "text": [
      "Lab_6\n"
     ]
    }
   ],
   "source": [
    "print(\"Lab_6\")"
   ]
  },
  {
   "cell_type": "code",
   "execution_count": null,
   "metadata": {},
   "outputs": [],
   "source": [
    "# 1. Create an abstract class Employee with an abstract method calculate_salary(), and implement concrete classes FullTimeEmployee and PartTimeEmployee. Use private variables inside each class for details like insurance_nominee. \n"
   ]
  },
  {
   "cell_type": "code",
   "execution_count": null,
   "metadata": {},
   "outputs": [
    {
     "name": "stdout",
     "output_type": "stream",
     "text": [
      "Full-time salary: 5000\n",
      "Part-time salary: 1600\n"
     ]
    }
   ],
   "source": [
    "from abc import ABC, abstractmethod\n",
    "\n",
    "class Employee(ABC):\n",
    "   def __init__(self, name, id):\n",
    "       self.name = name\n",
    "       self.id = id\n",
    "       self._insurance_nominee = None  # Protected variable\n",
    "       \n",
    "   @abstractmethod \n",
    "   def calculate_salary(self): \n",
    "       pass \n",
    "   \n",
    "   def set_insurance_nominee(self, nominee): \n",
    "       self._insurance_nominee = nominee \n",
    "       \n",
    "   def get_insurance_nominee(self): \n",
    "       return self._insurance_nominee \n",
    "\n",
    "class FullTimeEmployee(Employee):\n",
    "   def __init__(self, name, id, monthly_salary):\n",
    "       super().__init__(name, id)\n",
    "       self.__monthly_salary = monthly_salary  # Private variable\n",
    "       \n",
    "   def calculate_salary(self):\n",
    "       return self.__monthly_salary\n",
    "\n",
    "class PartTimeEmployee(Employee):\n",
    "   def __init__(self, name, id, hours_worked, hourly_rate):\n",
    "       super().__init__(name, id)\n",
    "       self.__hours = hours_worked  # Private variable  \n",
    "       self.__rate = hourly_rate    # Private variable  \n",
    "       \n",
    "   def calculate_salary(self):\n",
    "       return self.__hours * self.__rate\n",
    "\n",
    "# Usage Example\n",
    "full_time = FullTimeEmployee(\"John\", \"E001\", 5000)\n",
    "full_time.set_insurance_nominee(\"Jane\")\n",
    "\n",
    "part_time = PartTimeEmployee(\"Mike\", \"E002\", 80, 20)\n",
    "print(f\"Full-time salary: {full_time.calculate_salary()}\")\n",
    "print(f\"Part-time salary: {part_time.calculate_salary()}\")"
   ]
  },
  {
   "cell_type": "code",
   "execution_count": 2,
   "metadata": {},
   "outputs": [
    {
     "name": "stdout",
     "output_type": "stream",
     "text": [
      "10\n",
      "<class 'str'>\n",
      "shubham tiwari gv siddarth soham zade shubham shubham zade gv\n"
     ]
    }
   ],
   "source": [
    "# 2\n",
    "# Write a Python program that reads a text file (sample.txt) and counts the number of words in it.\n",
    "with open ('sample.txt','r')as f:\n",
    "    data = f.read().lower()\n",
    "    words=data.split()\n",
    "    print(len(words))\n",
    "    print(type(data))\n",
    "    print(data)"
   ]
  },
  {
   "cell_type": "code",
   "execution_count": 3,
   "metadata": {},
   "outputs": [
    {
     "name": "stdout",
     "output_type": "stream",
     "text": [
      "Total words: 10\n",
      "Most frequent word: 'shubham' (3 times)\n"
     ]
    }
   ],
   "source": [
    "# Count the occurrences of each word and display the most frequent word\n",
    "with open('sample.txt', 'r') as f:\n",
    "   data = f.read().lower()\n",
    "   words = data.split()\n",
    "   \n",
    "   # Count total words\n",
    "   word_count = len(words)\n",
    "   print(f\"Total words: {word_count}\")\n",
    "   \n",
    "   # Count frequency and find most common\n",
    "   word_freq = {}\n",
    "   for word in words:\n",
    "       word_freq[word] = word_freq.get(word, 0) + 1\n",
    "   \n",
    "   most_freq = max(word_freq, key=word_freq.get)\n",
    "   print(f\"Most frequent word: '{most_freq}' ({word_freq[most_freq]} times)\")"
   ]
  },
  {
   "cell_type": "code",
   "execution_count": 4,
   "metadata": {},
   "outputs": [],
   "source": [
    "# 3\n",
    "# Ask the user for their name, age, and city, then write this data to userdata.txt.\n",
    "f= open('userdata.txt','a')\n",
    "for i in range(1):\n",
    "    name = input(\"Enter Your Name : \")\n",
    "    age = input(\"Enter your age : \")\n",
    "    city= input(\"Enter your city : \")\n",
    "    f.write(name)\n",
    "    f.write(\" \")\n",
    "    f.write(age)\n",
    "    f.write(\" \")\n",
    "    f.write(city)\n",
    "    f.write('\\n')\n",
    "f.close()"
   ]
  },
  {
   "cell_type": "code",
   "execution_count": 5,
   "metadata": {},
   "outputs": [
    {
     "name": "stdout",
     "output_type": "stream",
     "text": [
      "Gv 21 BLR\n",
      "Shubham 21 VNS\n",
      "Zade 21 Nag\n",
      "Sanidhaya 21 Mumbai\n",
      "Srivat 21 Hyd\n"
     ]
    }
   ],
   "source": [
    "# Read this file and print details of first n users\n",
    "f = open('userdata.txt', 'r')  \n",
    "lines = f.readlines() \n",
    "f.close()  \n",
    "n = int(input(\"Enter the number of users to display: \"))  \n",
    "\n",
    "for i in range(min(n, len(lines))):  \n",
    "    print(lines[i].strip())  # Remove any trailing newline characters\n"
   ]
  },
  {
   "cell_type": "code",
   "execution_count": null,
   "metadata": {},
   "outputs": [],
   "source": [
    "# 4\n",
    "# Write a Python program to read and display the contents of employees.json.\n",
    "#search for an employee by their id and display their details.\n",
    "#Add a new employee to the JSON file and save the updated data."
   ]
  },
  {
   "cell_type": "code",
   "execution_count": 7,
   "metadata": {},
   "outputs": [
    {
     "name": "stdout",
     "output_type": "stream",
     "text": [
      "\n",
      "All Employees:\n",
      "{'id': 101, 'name': 'Alice Johnson', 'age': 30, 'department': 'Engineering', 'skills': ['Python', 'Machine Learning', 'Data Science']}\n",
      "{'id': 102, 'name': 'Bob Smith', 'age': 25, 'department': 'Marketing', 'skills': ['SEO', 'Content Writing', 'Analytics']}\n",
      "{'id': 103, 'name': 'Charlie Brown', 'age': 28, 'department': 'Human Resources', 'skills': ['Recruitment', 'Training', 'Communication']}\n",
      "{'id': 104, 'name': 'David Wilson', 'age': 32, 'department': 'Finance', 'skills': ['Accounting', 'Budget Planning']}\n",
      "{'id': 104, 'name': 'David Wilson', 'age': 32, 'department': 'Finance', 'skills': ['Accounting', 'Budget Planning']}\n",
      "\n",
      "Found employee 101:\n",
      "{'id': 101, 'name': 'Alice Johnson', 'age': 30, 'department': 'Engineering', 'skills': ['Python', 'Machine Learning', 'Data Science']}\n",
      "\n",
      "New employee added!\n"
     ]
    }
   ],
   "source": [
    "import json\n",
    "\n",
    "# Read and display JSON\n",
    "with open('employees.json', 'r') as file:\n",
    "   data = json.load(file)\n",
    "   print(\"\\nAll Employees:\")\n",
    "   for emp in data['employees']:\n",
    "       print(emp)\n",
    "\n",
    "# Search by ID\n",
    "emp_id = 101\n",
    "for emp in data['employees']:\n",
    "   if emp['id'] == emp_id:\n",
    "       print(f\"\\nFound employee {emp_id}:\")\n",
    "       print(emp)\n",
    "       break\n",
    "\n",
    "# Add new employee\n",
    "new_emp = {\n",
    "   \"id\": 199,\n",
    "   \"name\": \"Savid Wilson\", \n",
    "   \"age\": 32,\n",
    "   \"department\": \"Finance\",\n",
    "   \"skills\": [\"Accounting\", \"Budget Planning\"]\n",
    "}\n",
    "data['employees'].append(new_emp)\n",
    "\n",
    "# Save updated JSON\n",
    "with open('employees.json', 'w') as file:\n",
    "   json.dump(data, file, indent=4)\n",
    "print(\"\\nNew employee added!\")"
   ]
  },
  {
   "cell_type": "code",
   "execution_count": null,
   "metadata": {},
   "outputs": [],
   "source": [
    "# 5. WAP to manage the collections of books in a library in the following  manner:\n",
    "\n",
    " #Create a Python script that can both read from and write to a CSV file, containing details about each book. Each book's information will include its title, author, publication year, and ISBN number. Your script should be capable of adding new books to the CSV file and listing all the books currently stored in the file.\n",
    "\n",
    "# The program should begin by checking if the CSV file exists. If it does not, your script should create it and initialize it with the appropriate headers. Then, there should be 2 options: to add a new book or to display all books. When adding a new book, the user should be prompted to enter the title, author, publication year, and ISBN number. This new book should then be added to the CSV file without overwriting the existing entries. When choosing to display all books, the script should read from the CSV file and print each book's details.\n",
    "\n"
   ]
  },
  {
   "cell_type": "code",
   "execution_count": 8,
   "metadata": {},
   "outputs": [
    {
     "name": "stdout",
     "output_type": "stream",
     "text": [
      "\n",
      "1. Add new book\n",
      "2. Display all books\n",
      "3. Exit\n",
      "Book added successfully!\n",
      "\n",
      "1. Add new book\n",
      "2. Display all books\n",
      "3. Exit\n",
      "\n",
      "Title: Novel\n",
      "Author: GV\n",
      "Year: 2099\n",
      "ISBN: 234567890\n",
      "\n",
      "Title: Novel\n",
      "Author: GV\n",
      "Year: 90\n",
      "ISBN: 7890\n",
      "\n",
      "Title: Cricket\n",
      "Author: xtz\n",
      "Year: 3000\n",
      "ISBN: 234567890\n",
      "\n",
      "1. Add new book\n",
      "2. Display all books\n",
      "3. Exit\n",
      "Invalid choice!\n",
      "\n",
      "1. Add new book\n",
      "2. Display all books\n",
      "3. Exit\n"
     ]
    }
   ],
   "source": [
    "import csv\n",
    "import os\n",
    "\n",
    "# Check if file exists, if not create it with headers\n",
    "if not os.path.exists('books.csv'):\n",
    "   with open('books.csv', 'w', newline='') as file:\n",
    "       writer = csv.writer(file)\n",
    "       writer.writerow(['Title', 'Author', 'Year', 'ISBN'])\n",
    "\n",
    "def add_book():\n",
    "   title = input(\"Enter title: \")\n",
    "   author = input(\"Enter author: \")\n",
    "   year = input(\"Enter publication year: \")\n",
    "   isbn = input(\"Enter ISBN: \")\n",
    "   \n",
    "   with open('books.csv', 'a', newline='') as file:\n",
    "       writer = csv.writer(file)\n",
    "       writer.writerow([title, author, year, isbn])\n",
    "   print(\"Book added successfully!\")\n",
    "\n",
    "def display_books():\n",
    "   with open('books.csv', 'r') as file:\n",
    "       reader = csv.reader(file)\n",
    "       next(reader)  # Skip header row\n",
    "       for row in reader:\n",
    "           print(f\"\\nTitle: {row[0]}\")\n",
    "           print(f\"Author: {row[1]}\")\n",
    "           print(f\"Year: {row[2]}\")\n",
    "           print(f\"ISBN: {row[3]}\")\n",
    "\n",
    "while True:\n",
    "   print(\"\\n1. Add new book\")\n",
    "   print(\"2. Display all books\")\n",
    "   print(\"3. Exit\")\n",
    "   choice = input(\"Enter choice (1-3): \")\n",
    "   \n",
    "   if choice == '1':\n",
    "       add_book()\n",
    "   elif choice == '2':\n",
    "       display_books()\n",
    "   elif choice == '3':\n",
    "       break\n",
    "   else:\n",
    "       print(\"Invalid choice!\")\n"
   ]
  },
  {
   "cell_type": "code",
   "execution_count": 2,
   "metadata": {},
   "outputs": [],
   "source": [
    "# 6. Define a Matrix class of dimensions m X n (the values for m and n can be taken as input). Demonstrate matrix addition, subtraction, multiplication, element-by-element multiplication, scalar multiplication (use map here). Use operator overloading wherever possible. (Hint: In the constructor, use 'random' and create list of list using list comprehension. In the arguments of constructor, send the number of rows and columns)\n",
    "\n",
    "#Ensure that your implementation follows best practices for class design and encapsulation in Python. Comment your code to explain the functionality of each method.\n",
    "\n"
   ]
  },
  {
   "cell_type": "code",
   "execution_count": null,
   "metadata": {},
   "outputs": [
    {
     "name": "stdout",
     "output_type": "stream",
     "text": [
      "\n",
      "Enter Matrix 1:\n",
      "Enter 3 elements for row 1:\n",
      "Enter 3 elements for row 2:\n",
      "Enter 3 elements for row 3:\n",
      "\n",
      "Enter Matrix 2:\n",
      "Enter 3 elements for row 1:\n",
      "Enter 3 elements for row 2:\n",
      "Enter 3 elements for row 3:\n",
      "\n",
      "Matrix 1:\n",
      "1 2 3\n",
      "4 5 6\n",
      "7 8 9\n",
      "\n",
      "Matrix 2:\n",
      "9 8 7\n",
      "6 5 4\n",
      "3 2 1\n",
      "\n",
      "Addition:\n",
      "Enter 3 elements for row 1:\n",
      "Enter 3 elements for row 2:\n",
      "Enter 3 elements for row 3:\n",
      "10 10 10\n",
      "10 10 10\n",
      "10 10 10\n",
      "\n",
      "Hadamard Product:\n",
      "Enter 3 elements for row 1:\n",
      "Enter 3 elements for row 2:\n",
      "Enter 3 elements for row 3:\n",
      "9 16 21\n",
      "24 25 24\n",
      "21 16 9\n",
      "\n",
      "Scalar Multiplication:\n",
      "Enter 3 elements for row 1:\n",
      "Enter 3 elements for row 2:\n",
      "Enter 3 elements for row 3:\n",
      "7 14 21\n",
      "28 35 42\n",
      "49 56 63\n"
     ]
    }
   ],
   "source": [
    "class Matrix:\n",
    "   def __init__(self, rows, cols):\n",
    "       self.rows = rows\n",
    "       self.cols = cols\n",
    "       self.matrix = []\n",
    "       for i in range(rows):\n",
    "           row = [] \n",
    "           print(f\"Enter {cols} elements for row {i+1}:\")\n",
    "           for j in range(cols): \n",
    "               row.append(int(input()))\n",
    "           self.matrix.append(row)\n",
    "   \n",
    "   def __str__(self): \n",
    "       return '\\n'.join([' '.join(map(str, row)) for row in self.matrix])\n",
    "   \n",
    "   def __add__(self, other): \n",
    "       if (self.rows, self.cols) != (other.rows, other.cols):\n",
    "           raise ValueError(\"Matrix dimensions must match\")\n",
    "       result = Matrix(self.rows, self.cols)\n",
    "       result.matrix = [[self.matrix[i][j] + other.matrix[i][j] \n",
    "                        for j in range(self.cols)] for i in range(self.rows)]\n",
    "       return result\n",
    "   \n",
    "   def __sub__(self, other):\n",
    "       if (self.rows, self.cols) != (other.rows, other.cols):\n",
    "           raise ValueError(\"Matrix dimensions must match\")\n",
    "       result = Matrix(self.rows, self.cols)\n",
    "       result.matrix = [[self.matrix[i][j] - other.matrix[i][j] \n",
    "                        for j in range(self.cols)] for i in range(self.rows)]\n",
    "       return result\n",
    "   \n",
    "   def __mul__(self, other):\n",
    "       if self.cols != other.rows:\n",
    "           raise ValueError(\"Invalid dimensions for multiplication\")\n",
    "       result = Matrix(self.rows, other.cols)\n",
    "       result.matrix = [[sum(self.matrix[i][k] * other.matrix[k][j] \n",
    "                       for k in range(self.cols)) \n",
    "                       for j in range(other.cols)] \n",
    "                       for i in range(self.rows)]\n",
    "       return result\n",
    "       \n",
    "   def hadamard_product(self, other):\n",
    "       if (self.rows, self.cols) != (other.rows, other.cols):\n",
    "           raise ValueError(\"Matrix dimensions must match\")\n",
    "       result = Matrix(self.rows, self.cols)\n",
    "       result.matrix = [[self.matrix[i][j] * other.matrix[i][j] \n",
    "                        for j in range(self.cols)] for i in range(self.rows)]\n",
    "       return result\n",
    "   \n",
    "   def scalar_multiply(self, scalar):\n",
    "       result = Matrix(self.rows, self.cols)\n",
    "       result.matrix = list(map(lambda row: \n",
    "                          list(map(lambda x: x * scalar, row)), \n",
    "                          self.matrix))\n",
    "       return result\n",
    "\n",
    "# Example usage\n",
    "rows = int(input(\"Enter number of rows: \"))\n",
    "cols = int(input(\"Enter number of columns: \"))\n",
    "\n",
    "print(\"\\nEnter Matrix 1:\")\n",
    "m1 = Matrix(rows, cols)\n",
    "print(\"\\nEnter Matrix 2:\")\n",
    "m2 = Matrix(rows, cols)\n",
    "\n",
    "print(\"\\nMatrix 1:\")\n",
    "print(m1)\n",
    "print(\"\\nMatrix 2:\") \n",
    "print(m2)\n",
    "\n",
    "print(\"\\nAddition:\")\n",
    "print(m1 + m2)\n",
    "\n",
    "print(\"\\nHadamard Product:\") # Element wise multiplication\n",
    "print(m1.hadamard_product(m2))\n",
    "\n",
    "scalar = int(input(\"\\nEnter scalar for multiplication: \"))\n",
    "print(\"\\nScalar Multiplication:\")\n",
    "print(m1.scalar_multiply(scalar))"
   ]
  },
  {
   "cell_type": "code",
   "execution_count": null,
   "metadata": {},
   "outputs": [],
   "source": []
  }
 ],
 "metadata": {
  "kernelspec": {
   "display_name": "Python 3",
   "language": "python",
   "name": "python3"
  },
  "language_info": {
   "codemirror_mode": {
    "name": "ipython",
    "version": 3
   },
   "file_extension": ".py",
   "mimetype": "text/x-python",
   "name": "python",
   "nbconvert_exporter": "python",
   "pygments_lexer": "ipython3",
   "version": "3.11.4"
  }
 },
 "nbformat": 4,
 "nbformat_minor": 2
}
