{
 "cells": [
  {
   "cell_type": "code",
   "execution_count": 1,
   "metadata": {},
   "outputs": [
    {
     "name": "stdout",
     "output_type": "stream",
     "text": [
      "Lab3\n"
     ]
    }
   ],
   "source": [
    "print(\"Lab3\")"
   ]
  },
  {
   "cell_type": "code",
   "execution_count": 33,
   "metadata": {},
   "outputs": [
    {
     "name": "stdout",
     "output_type": "stream",
     "text": [
      "[1, 2, 4, 5, 6]\n",
      "[2, 4]\n"
     ]
    }
   ],
   "source": [
    "# Q2\n",
    "# Given 2 list. Print their union and intersection.\n",
    "# Input: [1, 2, 4, 5], [2, 4, 6]\n",
    "\n",
    "# Output: Union - [1, 2, 4, 5, 6]; Intersection - [2, 4]\n",
    "lst1 =[1,2,4,5]\n",
    "lst2= [2,4,6]\n",
    "union=[] # empty list to store union\n",
    "intersection=[] # empty list to store intersection\n",
    "set1=set(lst1)  # convert to set\n",
    "set2=set(lst2) # convert to set\n",
    "set_union =set() # empty set to store union\n",
    "set1|=set2 # set1 stores union\n",
    "set_union= set1 # set_union stores union\n",
    "set1=set(lst1) # convert lst1 back to set1 as it is changes to union\n",
    "set_intersection= set() # similar for intersection\n",
    "set1&=set2 # stores intersection in set1\n",
    "set_intersection= set1\n",
    "union = list(set_union) # convert from set to list\n",
    "intersection= list(set_intersection)\n",
    "print(union)\n",
    "print(intersection)\n",
    "\n"
   ]
  },
  {
   "cell_type": "code",
   "execution_count": 34,
   "metadata": {},
   "outputs": [
    {
     "name": "stdout",
     "output_type": "stream",
     "text": [
      "[96, 76, 40, 10, 60, 62, 44, 48, 36, 14]\n",
      "[71, 101, 65, 49, 47, 17, 77, 29, 67, 97]\n",
      "[21, 45, 66, 90, 9, 87, 75, 21, 51, 48]\n"
     ]
    }
   ],
   "source": [
    "#   3.  Using list comprehension and random number generation between 10 and 100,\n",
    "from random import randint as r\n",
    "     #(a) Print the even numbers\n",
    "lst_even = [ r(10,100)//2 *2 for i in range (10)] # r(10,100)//2 *2 rounding the number to the nearest even \n",
    "print(lst_even)\n",
    "    #(b) Print the odd numbers\n",
    "lst_odd = [r(10,100)//2 *2 +1 for i in range (10)]\n",
    "print(lst_odd)\n",
    "     #(c) Print the numbers divisible by 3\n",
    "lst_3_div = [r(10,100)//3 *3 for i in range (10)]   \n",
    "print(lst_3_div) \n",
    "\n"
   ]
  },
  {
   "cell_type": "code",
   "execution_count": 35,
   "metadata": {},
   "outputs": [
    {
     "name": "stdout",
     "output_type": "stream",
     "text": [
      "Pair found\n"
     ]
    }
   ],
   "source": [
    "# 7. \n",
    "#Write a Python program that takes a list of integers and a target sum as input. Use a set to determine if there exist two distinct numbers in the list whose sum equals the target. If such a pair exists, print \"Pair found\"; otherwise, print \"No pair found\".\n",
    "\n",
    "#nums = [3, 8, 12, 4, 7, 9] \n",
    "\n",
    "#target = 15\n",
    "#nums = [5, 1, 9, 14, 6, 3]\n",
    "\n",
    "#target = 20\n",
    "lst7=[]\n",
    "n= int(input(\"Number of elements in the list: \"))\n",
    "for i in range(n):\n",
    "    a= int(input(f\"Enter element {i+1}: \" ))\n",
    "    lst7.append(a)\n",
    "target = int(input(\"Enter the target: \"))\n",
    "set7 = set(lst7)\n",
    "pair_found=0\n",
    "for ele in lst7:\n",
    "    req= target-ele\n",
    "    if req in set7:\n",
    "        pair_found=1\n",
    "        break\n",
    "if pair_found==1:\n",
    "    print(\"Pair found\")\n",
    "else:\n",
    "    print(\"pair not found\")\n"
   ]
  },
  {
   "cell_type": "code",
   "execution_count": 36,
   "metadata": {},
   "outputs": [
    {
     "name": "stdout",
     "output_type": "stream",
     "text": [
      "{'__delitem__', 'reverse', '__reversed__', 'append', 'insert', 'clear', 'copy', 'extend', '__imul__', '__iadd__', 'sort', '__setitem__', 'remove', 'pop'}\n"
     ]
    }
   ],
   "source": [
    "# 8. Find out the methods that are applicable for list but not for tuples. List them out.\n",
    "list_methods = set(dir(list))\n",
    "tuple_methods = set(dir(tuple))\n",
    "\n",
    "# Methods that are in list but not in tuple\n",
    "list_only_methods = list_methods - tuple_methods\n",
    "\n",
    "print(list_only_methods)"
   ]
  },
  {
   "cell_type": "code",
   "execution_count": null,
   "metadata": {},
   "outputs": [
    {
     "name": "stdout",
     "output_type": "stream",
     "text": [
      "[3, 4, 6]\n"
     ]
    }
   ],
   "source": [
    "#1 Write a python code to find k closest neighbors of the given element in a sorted array (list)\n",
    "#Input: [2, 3, 4, 5, 6, 7], k = 3, a = 5 \n",
    "\n",
    "#Output: [3, 4, 6] \n",
    "\n",
    "#Rule: The integer ‘a’ may or may not be present in the input array. If ‘a’ is less than or equal to the first element in the input array, return the first k elements. Similarly, if ‘a’ is more than or equal to the last element in the input array, return the last k elements. The returned elements should be in the same order as present in the input array.\n",
    "# Given sorted list, k closest neighbors, and a target element\n",
    "lst_q_1 = [2, 3, 4, 5, 6, 7]\n",
    "k = 3\n",
    "a = 5\n",
    "\n",
    "# Case when the element 'a' is not in the list\n",
    "if a not in lst_q_1: \n",
    "    if a <= lst_q_1[0]:\n",
    "        print(lst_q_1[:k])  # Return the first k elements if a <= first element\n",
    "    elif a >= lst_q_1[-1]:\n",
    "        print(lst_q_1[-k:])  # Return the last k elements if a >= last element\n",
    "    else:\n",
    "        # When a is in the range of lst_q_1[0] and lst_q_1[-1]\n",
    "        left, right = 0, 1\n",
    "        result = []\n",
    "        \n",
    "        # Find the closest neighbors using a for loop\n",
    "        for _ in range(k):\n",
    "            if right < len(lst_q_1) and abs(lst_q_1[left] - a) <= abs(lst_q_1[right] - a):\n",
    "                result.append(lst_q_1[left])\n",
    "                left += 1\n",
    "            elif right < len(lst_q_1):\n",
    "                result.append(lst_q_1[right])\n",
    "                right += 1\n",
    "        \n",
    "        print(result)  # Print the result\n",
    "else:\n",
    "    # If 'a' is present in the list, find its position and get neighbors\n",
    "    idx = lst_q_1.index(a)\n",
    "    \n",
    "    # Find neighbors around 'a'\n",
    "    left, right = idx - 1, idx + 1\n",
    "    result = []\n",
    "    \n",
    "    # Collect k neighbors using a for loop\n",
    "    for _ in range(k):\n",
    "        if left >= 0 and right < len(lst_q_1):\n",
    "            # Add the closest of the two neighbors\n",
    "            if abs(lst_q_1[left] - a) <= abs(lst_q_1[right] - a):\n",
    "                result.append(lst_q_1[left])\n",
    "                left -= 1\n",
    "            else:\n",
    "                result.append(lst_q_1[right])\n",
    "                right += 1\n",
    "        elif left >= 0:  # If no right neighbor, add left neighbor\n",
    "            result.append(lst_q_1[left])\n",
    "            left -= 1\n",
    "        elif right < len(lst_q_1):  # If no left neighbor, add right neighbor\n",
    "            result.append(lst_q_1[right])\n",
    "            right += 1\n",
    "    \n",
    "    print(sorted(result))  # Print the result\n"
   ]
  },
  {
   "cell_type": "code",
   "execution_count": null,
   "metadata": {},
   "outputs": [
    {
     "name": "stdout",
     "output_type": "stream",
     "text": [
      "Transpose\n",
      "\n",
      "Using Zip\n",
      "\n",
      "[(1, 4, 8), (2, 5, 9), (3, 7, 0)]\n",
      "Using List Comp\n",
      "\n",
      "[[1, 4, 8], [2, 5, 9], [3, 7, 0]]\n",
      "Using Zip\n",
      "\n",
      "[(2, 1, 0), (5, 3, 9), (4, 8, 2)]\n",
      "Using List Comp\n",
      "\n",
      "[[2, 1, 0], [5, 3, 9], [4, 8, 2]]\n",
      "Add\n",
      "\n",
      "Addition Without using zip() \n",
      "\n",
      "[[3, 7, 7], [5, 8, 15], [8, 18, 2]]\n",
      "Addition With using zip() \n",
      "\n",
      "[[3, 7, 7], [5, 8, 15], [8, 18, 2]]\n",
      "Subtraction\n",
      "\n",
      "Without using zip()\n",
      "\n",
      "[[-1, -3, -1], [3, 2, -1], [8, 0, -2]]\n",
      "With using zip()\n",
      "\n",
      "[[-1, -3, -1], [3, 2, -1], [8, 0, -2]]\n",
      "Trace sum of diagonal elements without zip\n",
      "\n",
      "trace of mat1\n",
      " 6\n",
      "trace of mat2\n",
      " 7\n",
      "Trace sum of diagonal elements with zip\n",
      "\n",
      "trace of mat1\n",
      " 6\n",
      "trace of mat2\n",
      " 11\n"
     ]
    }
   ],
   "source": [
    "# 6.For two matrices of size 3X3 each, perform the following matrix operation : (a) Transpose (b) addition, (c) subtraction (d) trace. For each of them, do in both ways i.e. (i) Without using Zip() but use list comprehension (ii) Using Zip()\n",
    "mat1 = [[1,2,3],\n",
    "        [4,5,7],\n",
    "        [8,9,0]]\n",
    "mat2= [[2,5,4],\n",
    "       [1,3,8],\n",
    "       [0,9,2]]\n",
    "# transpose\n",
    "\n",
    "print(\"Transpose\\n\")\n",
    "\n",
    "mat1_t_z= list(zip(*mat1)) # using zip\n",
    "print(\"Using Zip\\n\")\n",
    "print(mat1_t_z)\n",
    "\n",
    "mat1_t_l= [[mat1[j][i] for j in range(3)]for i in range(3)] # using list compre\n",
    "print(\"Using List Comp\\n\")\n",
    "print(mat1_t_l)\n",
    "\n",
    "mat2_t_z= list(zip(*mat2))\n",
    "print(\"Using Zip\\n\")\n",
    "print(mat2_t_z)\n",
    "\n",
    "mat2_t_l= [[mat2[j][i] for j in range(3)]for i in range(3)] # using list compre\n",
    "print(\"Using List Comp\\n\")\n",
    "print(mat2_t_l)\n",
    "#add\n",
    "print(\"Add\\n\")\n",
    "\n",
    "\n",
    "# (i) Without using zip()\n",
    "addition1 = [[mat1[i][j] + mat2[i][j] for j in range(3)] for i in range(3)]\n",
    "print(\"Addition Without using zip() \\n\")\n",
    "print(addition1)\n",
    "\n",
    "\n",
    "# (ii) Using zip()\n",
    "addition2 = [[a + b for a, b in zip(mat1_row, mat2_row)] for mat1_row, mat2_row in zip(mat1, mat2)]\n",
    "print(\"Addition With using zip() \\n\")\n",
    "print(addition2)\n",
    "\n",
    "print('Subtraction\\n')\n",
    "# (i) Without using zip()\n",
    "subtraction1 = [[mat1[i][j] - mat2[i][j] for j in range(3)] for i in range(3)]\n",
    "print(\"Without using zip()\\n\")\n",
    "print(subtraction1) \n",
    "# (ii) Using zip() \n",
    "subtraction2 = [[a - b for a, b in zip(mat1_row, mat2_row)] for mat1_row, mat2_row in zip(mat1, mat2)]\n",
    "print(\"With using zip()\\n\")\n",
    "print(subtraction2)\n",
    "\n",
    "print('Trace sum of diagonal elements without zip\\n')\n",
    "# (i) Without using zip()\n",
    "trace_mat1_1 = sum(mat1[i][i] for i in range(3))\n",
    "print(\"trace of mat1\\n\",trace_mat1_1)\n",
    "\n",
    "trace_mat2_1 = sum(mat2[i][i] for i in range(3))\n",
    "print(\"trace of mat2\\n\",trace_mat2_1)\n",
    "\n",
    "# (ii) Using zip() (Extracting diagonal using zip())\n",
    "print('Trace sum of diagonal elements with zip\\n')\n",
    "trace_mat1_2 = sum([a for a, _, _ in zip(*mat1)])\n",
    "print(\"trace of mat1\\n\",trace_mat1_2) \n",
    "trace_mat2_2 = sum([a for a, _, _ in zip(*mat2)])\n",
    "print(\"trace of mat2\\n\",trace_mat2_2)"
   ]
  },
  {
   "cell_type": "code",
   "execution_count": 39,
   "metadata": {},
   "outputs": [
    {
     "name": "stdout",
     "output_type": "stream",
     "text": [
      "Matrix A after row swap:\n",
      "[7, 8, 9]\n",
      "[4, 5, 6]\n",
      "[1, 2, 3]\n",
      "\n",
      "Matrix B after column swap:\n",
      "[7, 10, 9]\n",
      "[4, 0, 6]\n",
      "[1, 2, 3]\n"
     ]
    }
   ],
   "source": [
    "# 6.  Given two matrices A and B (list of lists) perform the following operations using zip() and *(unpacking) operator.\n",
    "\n",
    "    #(a) Interchange any two rows\n",
    "\n",
    "    #(b) Interchange any two columns \n",
    "\n",
    "#You can take suitable inputs for rows / columns\n",
    "#  matrices A and B\n",
    "A = [\n",
    "    [1, 2, 3],\n",
    "    [4, 5, 6],\n",
    "    [7, 8, 9]\n",
    "]\n",
    "\n",
    "B = [\n",
    "    [9, 10, 7],\n",
    "    [6, 0, 4],\n",
    "    [3, 2, 1]\n",
    "]\n",
    "\n",
    "A[0], A[2] = A[2], A[0] # swapping first and last row\n",
    "\n",
    "B_transposed = list(zip(*B))  # Transposing B to make columns into rows\n",
    "B_transposed[0], B_transposed[2] = B_transposed[2], B_transposed[0]  # Swapping  first and last columns\n",
    "B = [list(row) for row in zip(*B_transposed)]  # Transpose back to original format\n",
    "\n",
    "\n",
    "print(\"Matrix A after row swap:\")\n",
    "for row in A:\n",
    "    print(row)\n",
    "\n",
    "print(\"\\nMatrix B after column swap:\")\n",
    "for row in B:\n",
    "    print(row)"
   ]
  },
  {
   "cell_type": "code",
   "execution_count": null,
   "metadata": {},
   "outputs": [],
   "source": []
  },
  {
   "cell_type": "code",
   "execution_count": 40,
   "metadata": {},
   "outputs": [
    {
     "name": "stdout",
     "output_type": "stream",
     "text": [
      "[['shubham', 19, 1], ['gv', 20, 2], ['zade', 21, 3]]\n",
      "('shubham', 19, 1) ('gv', 20, 2) ('zade', 21, 3)\n"
     ]
    }
   ],
   "source": [
    "# 5. Create 3 tuples one for name, age and salary. Group them using indexing approach (with and without comprehension) and then with zip function. Print the output as a list.\n",
    "name= (\"shubham\",\"gv\",\"zade\")\n",
    "age= (19,20,21)\n",
    "salary=(1,2,3)\n",
    "lst5= [[name[i],age[i],salary[i]] for i in range(len(name))]\n",
    "lst6 = list(zip(name,age,salary))\n",
    "\n",
    "print(lst5)\n",
    "print(*lst6) # output is list of tuples\n"
   ]
  },
  {
   "cell_type": "code",
   "execution_count": 26,
   "metadata": {},
   "outputs": [
    {
     "data": {
      "text/plain": [
       "' 4. \\n\\n(1) Given a 3×3 matrix, write a Python script to modify the matrix such that if any element is 0, the entire row and column containing that 0 are set to 0.\\n\\nFinally, print the original and updated matrix\\n\\nExample: \\n\\nOriginal Matrix:   \\n\\n[[1, 2, 2], \\n\\n[4, 2, 6], \\n\\n[7, 8, 0]]\\n\\n\\nUpdated Matrix:\\n\\n[[1,2,0],\\n\\n [4,2,0],\\n\\n [0,0,0]]\\n\\n\\n(2)  Do the same with list comprehension. '"
      ]
     },
     "execution_count": 26,
     "metadata": {},
     "output_type": "execute_result"
    }
   ],
   "source": [
    "\"\"\" 4. \n",
    "\n",
    "(1) Given a 3×3 matrix, write a Python script to modify the matrix such that if any element is 0, the entire row and column containing that 0 are set to 0.\n",
    "\n",
    "Finally, print the original and updated matrix\n",
    "\n",
    "Example: \n",
    "\n",
    "Original Matrix:   \n",
    "\n",
    "[[1, 2, 2], \n",
    "\n",
    "[4, 2, 6], \n",
    "\n",
    "[7, 8, 0]]\n",
    "\n",
    "\n",
    "Updated Matrix:\n",
    "\n",
    "[[1,2,0],\n",
    "\n",
    " [4,2,0],\n",
    "\n",
    " [0,0,0]]\n",
    "\n",
    "\n",
    "(2)  Do the same with list comprehension. \"\"\"\n"
   ]
  },
  {
   "cell_type": "code",
   "execution_count": 41,
   "metadata": {},
   "outputs": [
    {
     "name": "stdout",
     "output_type": "stream",
     "text": [
      "Original Matrix:\n",
      "[1, 2, 2]\n",
      "[4, 2, 6]\n",
      "[7, 8, 0]\n",
      "\n",
      "Updated Matrix:\n",
      "[1, 2, 0]\n",
      "[4, 2, 0]\n",
      "[0, 0, 0]\n",
      "\n",
      "Updated Matrix (Using List Comprehension):\n",
      "[1, 2, 0]\n",
      "[4, 2, 0]\n",
      "[0, 0, 0]\n"
     ]
    }
   ],
   "source": [
    "#4 ans\n",
    "# (1) Given a 3×3 matrix, modify it such that if any element is 0, \n",
    "# the entire row and column containing that 0 are set to 0.\n",
    "\n",
    "# Original Matrix\n",
    "matrix = [\n",
    "    [1, 2, 2], \n",
    "    [4, 2, 6], \n",
    "    [7, 8, 0]\n",
    "]\n",
    "\n",
    "#Finding the rows and columns that need to be zeroed\n",
    "zero_rows = set()\n",
    "zero_cols = set()\n",
    "\n",
    "# Traversing the matrix and marking the rows and columns with 0s\n",
    "for i in range(len(matrix)):\n",
    "    for j in range(len(matrix[i])):\n",
    "        if matrix[i][j] == 0:\n",
    "            zero_rows.add(i)\n",
    "            zero_cols.add(j)\n",
    "\n",
    "#  Modifing the matrix\n",
    "for i in range(len(matrix)):\n",
    "    for j in range(len(matrix[i])):\n",
    "        if i in zero_rows or j in zero_cols:\n",
    "            matrix[i][j] = 0\n",
    "\n",
    "# Printing original and updated matrix\n",
    "print(\"Original Matrix:\")\n",
    "original_matrix = [\n",
    "    [1, 2, 2], \n",
    "    [4, 2, 6], \n",
    "    [7, 8, 0]\n",
    "]\n",
    "for row in original_matrix:\n",
    "    print(row)\n",
    "\n",
    "print(\"\\nUpdated Matrix:\")\n",
    "for row in matrix:\n",
    "    print(row)\n",
    "\n",
    "\n",
    "# (2) Using list comprehension to achieve the same result\n",
    "\n",
    "# Original matrix\n",
    "matrix = [\n",
    "    [1, 2, 2], \n",
    "    [4, 2, 6], \n",
    "    [7, 8, 0]\n",
    "]\n",
    "\n",
    "#  Finding the rows and columns that need to be zeroed using list comprehension\n",
    "zero_rows = {i for i in range(len(matrix)) for j in range(len(matrix[i])) if matrix[i][j] == 0}\n",
    "zero_cols = {j for i in range(len(matrix)) for j in range(len(matrix[i])) if matrix[i][j] == 0}\n",
    "\n",
    "#  Modifing the matrix using list comprehension\n",
    "updated_matrix = [\n",
    "    [0 if i in zero_rows or j in zero_cols else matrix[i][j] for j in range(len(matrix[i]))] \n",
    "    for i in range(len(matrix))\n",
    "]\n",
    "\n",
    "# Printing updated matrix using list comprehension method\n",
    "print(\"\\nUpdated Matrix (Using List Comprehension):\")\n",
    "for row in updated_matrix:\n",
    "    print(row)\n"
   ]
  },
  {
   "cell_type": "code",
   "execution_count": 32,
   "metadata": {},
   "outputs": [
    {
     "name": "stdout",
     "output_type": "stream",
     "text": [
      "3\n"
     ]
    }
   ],
   "source": []
  },
  {
   "cell_type": "code",
   "execution_count": null,
   "metadata": {},
   "outputs": [],
   "source": []
  }
 ],
 "metadata": {
  "kernelspec": {
   "display_name": "Python 3",
   "language": "python",
   "name": "python3"
  },
  "language_info": {
   "codemirror_mode": {
    "name": "ipython",
    "version": 3
   },
   "file_extension": ".py",
   "mimetype": "text/x-python",
   "name": "python",
   "nbconvert_exporter": "python",
   "pygments_lexer": "ipython3",
   "version": "3.11.4"
  }
 },
 "nbformat": 4,
 "nbformat_minor": 2
}
