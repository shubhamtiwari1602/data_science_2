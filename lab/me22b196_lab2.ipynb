{
 "cells": [
  {
   "cell_type": "markdown",
   "metadata": {},
   "source": [
    "## Q1"
   ]
  },
  {
   "cell_type": "code",
   "execution_count": 23,
   "metadata": {},
   "outputs": [
    {
     "name": "stdout",
     "output_type": "stream",
     "text": [
      "6\n"
     ]
    }
   ],
   "source": [
    "#  Given an integer or a string (assume to be a single word), find out the sum of its digits. (Read input from console )\n",
    "x= input(\"Enter a number or a string: \")\n",
    "sum=0\n",
    "if x.isdigit():\n",
    "    for i in x:\n",
    "        sum+=int(i)\n",
    "    print(sum)\n",
    "else:    \n",
    "    print(\"Please enter a number or a string\")"
   ]
  },
  {
   "cell_type": "code",
   "execution_count": 25,
   "metadata": {},
   "outputs": [
    {
     "name": "stdout",
     "output_type": "stream",
     "text": [
      "[16, 41, 59, 79, 80, 80, 89, 92, 97, 98]\n",
      "Median is:  80.0\n",
      "List2:  [16, 41, 59, 79]\n",
      "List3:  [80, 80, 89, 92, 97, 98]\n"
     ]
    }
   ],
   "source": [
    "# q2. Create a list of random integers in range(1,100) , find the median of the numbers in the list, later divide the list into two sublists with respect to the median.\n",
    "import random\n",
    "list1=[]\n",
    "for i in range(10):\n",
    "    list1.append(random.randint(1,100)) #generating random numbers\n",
    "list1.sort()\n",
    "print(list1)\n",
    "if len(list1)%2==0:\n",
    "    median=(list1[len(list1)//2]+list1[(len(list1)//2)-1])/2\n",
    "else:\n",
    "    median=list1[len(list1)//2]\n",
    "print(\"Median is: \",median)\n",
    "list2=[]\n",
    "list3=[]\n",
    "for i in list1:\n",
    "    if i<median:\n",
    "        list2.append(i)\n",
    "    else:\n",
    "        list3.append(i)\n",
    "print(\"List2: \",list2)\n",
    "print(\"List3: \",list3)"
   ]
  },
  {
   "cell_type": "code",
   "execution_count": 26,
   "metadata": {},
   "outputs": [
    {
     "name": "stdout",
     "output_type": "stream",
     "text": [
      "exp(x):  10086.573192239859\n",
      "sin(x):  -16.811850137411582\n",
      "cos(x):  -34.438611895367586\n"
     ]
    }
   ],
   "source": [
    "# q3\n",
    "# Using loops, compute the series for (a) exp(x), (b) sin x and (c) cos x, taking input as x (and you can also take input for the number of terms to be computed in the series).\n",
    "import math\n",
    "x= int(input(\"enter a number: \"))\n",
    "n= int(input(\"enter the number of terms: \"))\n",
    "exp=0 # e^x= x^0/0! + x^1/1! + x^2/2! + x^3/3! + ....\n",
    "sin=0 # sin(x)= x^1/1! - x^3/3! + x^5/5! - x^7/7! + ....\n",
    "cos=0 # cos(x)= x^0/0! - x^2/2! + x^4/4! - x^6/6! + ....\n",
    "for i in range(n):\n",
    "    exp+= (x**i)/math.factorial(i)\n",
    "    sin+= ((-1)**i)*(x**(2*i+1))/math.factorial(2*i+1)\n",
    "    cos+= ((-1)**i)*(x**(2*i))/math.factorial(2*i)\n",
    "print(\"exp(x): \",exp)\n",
    "print(\"sin(x): \",sin)\n",
    "print(\"cos(x): \",cos)\n",
    "\n"
   ]
  },
  {
   "cell_type": "code",
   "execution_count": 27,
   "metadata": {},
   "outputs": [
    {
     "name": "stdout",
     "output_type": "stream",
     "text": [
      "s1 is a palindrome\n",
      "s2 is not a palindrome\n",
      "s3 is a palindrome\n",
      "s4 is not a palindrome\n"
     ]
    }
   ],
   "source": [
    "# 4\n",
    "# WAP to check if 2 input strings are a palindrome (a) using string operations (b) without using string operations.\n",
    "s1= input(\"enter a string: \")\n",
    "s2= input(\"enter another string: \")\n",
    "if s1==s1[::-1]: \n",
    "    print(\"s1 is a palindrome\")\n",
    "else:\n",
    "    print(\"s1 is not a palindrome\")\n",
    "if s2==s2[::-1]:\n",
    "    print(\"s2 is a palindrome\")\n",
    "else:\n",
    "    print(\"s2 is not a palindrome\")\n",
    "# without using string operations\n",
    "s3= input(\"enter a string: \")\n",
    "s4= input(\"enter another string: \")\n",
    "flag=0\n",
    "for i in range(len(s3)//2):\n",
    "    if s3[i]!=s3[len(s3)-i-1]:\n",
    "        flag=1 # not match\n",
    "        break\n",
    "if flag==0:\n",
    "    print(\"s3 is a palindrome\")\n",
    "else:\n",
    "    print(\"s3 is not a palindrome\")\n",
    "flag=0\n",
    "for i in range(len(s4)//2):\n",
    "    if s4[i]!=s4[len(s4)-i-1]:\n",
    "        flag=1\n",
    "        break\n",
    "if flag==0:\n",
    "    print(\"s4 is a palindrome\")\n",
    "else:\n",
    "    print(\"s4 is not a palindrome\")\n",
    "    "
   ]
  },
  {
   "cell_type": "code",
   "execution_count": 28,
   "metadata": {},
   "outputs": [
    {
     "name": "stdout",
     "output_type": "stream",
     "text": [
      "['shubham', 'tiwari', 'is', 'from', 'mech']\n",
      "['mech', 'from', 'is', 'tiwari', 'shubham']\n",
      "mech from is tiwari shubham\n"
     ]
    }
   ],
   "source": [
    "# 5\n",
    "# Given a string str, the task is to reverse the order of the words in the given string. There is a space between two words. \n",
    "str = \"shubham tiwari is from mech\"\n",
    "str1= str.split()\n",
    "print(str1)\n",
    "str1.reverse()\n",
    "print(str1)\n",
    "str2= \" \".join(str1) #joining the list of words to form a string \n",
    "print(str2)\n",
    "\n",
    "\n",
    " \n",
    "\n"
   ]
  },
  {
   "cell_type": "code",
   "execution_count": 29,
   "metadata": {},
   "outputs": [
    {
     "name": "stdout",
     "output_type": "stream",
     "text": [
      "dt cec sfn\n",
      "u ienisaa\n"
     ]
    }
   ],
   "source": [
    "# 6\n",
    "# WAP to take a sentence as input from the user and store every second character from the input string using slicing in a list. Print the remaining string in reverse order using slicing.\n",
    "s= input(\"enter a sentence: \")\n",
    "list1=[]\n",
    "n= len(s)\n",
    "list1=s[0:n:2] #every second character\n",
    "# remove every 2nd character from s\n",
    "s= s[1:n:2] #removing every second character from 1 , basically storing all odd indexed characters\n",
    "\n",
    "\n",
    "print(list1)\n",
    "print(s[::-1])\n"
   ]
  },
  {
   "cell_type": "markdown",
   "metadata": {},
   "source": [
    " continue: It is used to skip the current iteration of the loop and continue with the next iteration.\n",
    " \n",
    "pass: When you want to write the code later, but you dont want to get an error, you can use pass statement."
   ]
  },
  {
   "cell_type": "code",
   "execution_count": 30,
   "metadata": {},
   "outputs": [
    {
     "name": "stdout",
     "output_type": "stream",
     "text": [
      "1\n",
      "3\n",
      "5\n",
      "7\n",
      "9\n",
      "0\n",
      "1\n",
      "2\n",
      "3\n",
      "4\n",
      "5\n",
      "6\n",
      "7\n",
      "8\n",
      "9\n"
     ]
    }
   ],
   "source": [
    "# 7\n",
    "# Find about continue, and pass statements and WAP to demonstrate them. \n",
    "# continue: It is used to skip the current iteration of the loop and continue with the next iteration.\n",
    "# pass: When you want to write the code later, but you dont want to get an error, you can use pass statement.\n",
    "\n",
    "for i in range(10):\n",
    "    if i%2==0: # dont print even numbers\n",
    "        continue\n",
    "    print(i)\n",
    "\n",
    "for i in range(10):\n",
    "    if i%2==0: # i will write the code later\n",
    "        pass\n",
    "    print(i)"
   ]
  },
  {
   "cell_type": "code",
   "execution_count": null,
   "metadata": {},
   "outputs": [],
   "source": []
  }
 ],
 "metadata": {
  "kernelspec": {
   "display_name": "Python 3",
   "language": "python",
   "name": "python3"
  },
  "language_info": {
   "codemirror_mode": {
    "name": "ipython",
    "version": 3
   },
   "file_extension": ".py",
   "mimetype": "text/x-python",
   "name": "python",
   "nbconvert_exporter": "python",
   "pygments_lexer": "ipython3",
   "version": "3.11.4"
  }
 },
 "nbformat": 4,
 "nbformat_minor": 2
}
