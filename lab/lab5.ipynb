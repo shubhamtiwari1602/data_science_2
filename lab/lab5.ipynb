{
 "cells": [
  {
   "cell_type": "code",
   "execution_count": 1,
   "metadata": {},
   "outputs": [
    {
     "name": "stdout",
     "output_type": "stream",
     "text": [
      "Lab5\n"
     ]
    }
   ],
   "source": [
    "print(\"Lab5\")"
   ]
  },
  {
   "cell_type": "code",
   "execution_count": 2,
   "metadata": {},
   "outputs": [],
   "source": [
    "#1.  Create a class Item with attributes name, quantity, and price. Write a method to calculate and return the total value of the item (i.e., quantity * price)."
   ]
  },
  {
   "cell_type": "code",
   "execution_count": null,
   "metadata": {},
   "outputs": [
    {
     "name": "stdout",
     "output_type": "stream",
     "text": [
      "25\n"
     ]
    }
   ],
   "source": [
    "class items:\n",
    "    def __init__(self,name,quantity,price):\n",
    "        self.name = name\n",
    "        self.quantity= quantity\n",
    "        self.price= price\n",
    "    def total_value(self): \n",
    "        value = self.quantity*self.price\n",
    "        print(value)\n",
    "apple = items(\"Apple\", 5, 5)\n",
    "apple.total_value()\n",
    "        "
   ]
  },
  {
   "cell_type": "code",
   "execution_count": 5,
   "metadata": {},
   "outputs": [],
   "source": [
    "# 2. Create a class named Car with attributes make, model, and year. Write a method that displays the car details. Read the car information from the console, create an instance, and call the method to display the details."
   ]
  },
  {
   "cell_type": "code",
   "execution_count": 29,
   "metadata": {},
   "outputs": [
    {
     "name": "stdout",
     "output_type": "stream",
     "text": [
      "BMW    x3   2099\n"
     ]
    }
   ],
   "source": [
    "class Car:\n",
    "    def __init__(self,make,model,year):\n",
    "        self.make=make\n",
    "        self.model=model\n",
    "        self.year=year\n",
    "    def display_details(self):\n",
    "        print(self.make, \"  \",self.model, \" \", self.year )\n",
    "name = input(\"Enter the make : \")\n",
    "model = input(\"Enter the model: \")\n",
    "year = int(input(\"Enter the year : \"))\n",
    "car1= Car(name, model, year)\n",
    "car1.display_details()\n",
    "\n",
    "        "
   ]
  },
  {
   "cell_type": "code",
   "execution_count": 9,
   "metadata": {},
   "outputs": [],
   "source": [
    "# 3 a. Implement a Python class ComplexNumber that overloads the concerned operator to add, subtract and multiply two complex numbers."
   ]
  },
  {
   "cell_type": "code",
   "execution_count": 31,
   "metadata": {},
   "outputs": [
    {
     "name": "stdout",
     "output_type": "stream",
     "text": [
      "3 + 10 j\n",
      "3 - 8 j\n",
      "-7 + 11 j\n"
     ]
    }
   ],
   "source": [
    "class complexNumber:\n",
    "    def __init__(self,real,img):\n",
    "        self.real= real\n",
    "        self.img= img\n",
    "    def __rep__(self):\n",
    "        if self.img<0:\n",
    "            print(self.real, \"-\",abs(self.img),\"j\" )\n",
    "        else:\n",
    "            print(self.real, \"+\",abs(self.img),\"j\" )\n",
    "    def __add__(self, other):\n",
    "        a= self.real+other.real\n",
    "        b= self.img+other.img\n",
    "        return complexNumber(a,b)\n",
    "    def __sub__(self, other):\n",
    "        a= self.real+other.real\n",
    "        b= self.img-other.img\n",
    "        return complexNumber(a,b)    \n",
    "    def __mul__(self,other):\n",
    "        a= self.real*other.real-self.img*other.img\n",
    "        b=self.real*other.img+self.img*other.real\n",
    "        return complexNumber(a,b)\n",
    "c1= complexNumber(1,1)\n",
    "c2= complexNumber(2,9)\n",
    "c3 = c1.__add__(c2)\n",
    "c3.__rep__()\n",
    "c4= c1.__sub__(c2)\n",
    "c4.__rep__()\n",
    "c5= c1.__mul__(c2)\n",
    "c5.__rep__()\n"
   ]
  },
  {
   "cell_type": "code",
   "execution_count": null,
   "metadata": {},
   "outputs": [],
   "source": [
    "#    b. Derive a subclass PolarComplex that converts the complex number into polar coordinates and overrides the multiplication   behavior to multiply magnitudes and add angles."
   ]
  },
  {
   "cell_type": "code",
   "execution_count": 13,
   "metadata": {},
   "outputs": [],
   "source": [
    "import math"
   ]
  },
  {
   "cell_type": "code",
   "execution_count": 32,
   "metadata": {},
   "outputs": [
    {
     "name": "stdout",
     "output_type": "stream",
     "text": [
      "Magnitude :  1.4142135623730951 Angle  :  45.0\n",
      "Magnitude :  4.000000000000001 Angle  :  90.0\n"
     ]
    }
   ],
   "source": [
    "class polarComplex(complexNumber):\n",
    "    def __init__(self, real, img):\n",
    "        super().__init__(real, img)\n",
    "        self.magnitude= math.sqrt(self.real**2+self.img**2)\n",
    "        self.angle= math.atan2(img,real)\n",
    "        self.angle_in_deg= math.degrees(self.angle)\n",
    "    def __rep__(self):\n",
    "        print(\"Magnitude : \",self.magnitude, \"Angle  : \",self.angle_in_deg)\n",
    "    def __mul__(self, other):\n",
    "        mag= self.magnitude *other.magnitude\n",
    "        ang= self.angle+other.angle\n",
    "        new_real= mag*math.cos(ang)\n",
    "        new_img= mag*math.sin(ang)\n",
    "        return polarComplex(new_real, new_img)\n",
    "p1= polarComplex(1,1)\n",
    "p2=polarComplex(2,2)\n",
    "p1.__rep__()\n",
    "p3= p1.__mul__(p2)\n",
    "p3.__rep__()\n",
    "\n",
    "\n",
    "    "
   ]
  },
  {
   "cell_type": "code",
   "execution_count": null,
   "metadata": {},
   "outputs": [],
   "source": [
    "# 4 a. Create a Polynomial class that uses a list of coefficients where the index represents the power of x (e.g., coefficients [7,0,4,3] represent 7+0x+4x2+3x3) . Overload operators for polynomial subtraction (__sub__). "
   ]
  },
  {
   "cell_type": "code",
   "execution_count": 35,
   "metadata": {},
   "outputs": [
    {
     "name": "stdout",
     "output_type": "stream",
     "text": [
      "[1, 1, 1, 5, 0, 4]\n"
     ]
    }
   ],
   "source": [
    "class Polynomial:\n",
    "    def __init__(self,c=[]):\n",
    "        self.c=c\n",
    "    def __str__(self):\n",
    "        return str(self.c)    \n",
    "    def __sub__(self, other):\n",
    "        m = max(len(self.c), len(other.c))\n",
    "        r = []\n",
    "        for i in range(m):\n",
    "            a = self.c[i] if i < len(self.c) else 0\n",
    "            b = other.c[i] if i < len(other.c) else 0\n",
    "            r.append(a - b)\n",
    "        return Polynomial(r)\n",
    "a1=[2,2,2,9,0,4]\n",
    "b1=[1,1,1,4]\n",
    "c1= Polynomial(a1)\n",
    "c2= Polynomial(b1)\n",
    "c3= c1.__sub__(c2)\n",
    "print(c3)\n",
    "        "
   ]
  },
  {
   "cell_type": "code",
   "execution_count": null,
   "metadata": {},
   "outputs": [],
   "source": [
    "# 4 b. Derive a subclass DerivativePolynomial that includes a method to compute the derivative of the polynomial. "
   ]
  },
  {
   "cell_type": "code",
   "execution_count": null,
   "metadata": {},
   "outputs": [],
   "source": [
    "# 4c. Additionally, override the subtraction operator to calculate the difference between the derivatives of two polynomials"
   ]
  },
  {
   "cell_type": "code",
   "execution_count": 36,
   "metadata": {},
   "outputs": [
    {
     "name": "stdout",
     "output_type": "stream",
     "text": [
      "Original: [1, 2, 3]\n",
      "Derivative: [2, 6]\n",
      "Derivative difference: [1, 4]\n"
     ]
    }
   ],
   "source": [
    "class DerivativePolynomial(Polynomial):\n",
    "    def derivative(self):\n",
    "        if len(self.c) <= 1:\n",
    "            return DerivativePolynomial([0])\n",
    "\n",
    "        r = [i * self.c[i] for i in range(1, len(self.c))]\n",
    "        return DerivativePolynomial(r)\n",
    "\n",
    "    def __sub__(self, other):\n",
    "        return Polynomial.__sub__(self.derivative(), other.derivative())  \n",
    "\n",
    "\n",
    "# Test\n",
    "p = DerivativePolynomial([1, 2, 3])  # 1 + 2x + 3x²\n",
    "d = p.derivative()  # 2 + 6x\n",
    "print(f\"Original: {p}\")\n",
    "print(f\"Derivative: {d}\")\n",
    "p1 = DerivativePolynomial([1, 2, 3])  # 1 + 2x + 3x²\n",
    "p2 = DerivativePolynomial([1, 1, 1])  # 1 + x + x²\n",
    "diff = p1 - p2  # (2 + 6x) - (1 + 2x) = 1 + 4x\n",
    "print(f\"Derivative difference: {diff}\")\n"
   ]
  },
  {
   "cell_type": "code",
   "execution_count": null,
   "metadata": {},
   "outputs": [],
   "source": [
    "#5 What is the concept of containership in OOPs ( You can read about this ). How is it different from inheritance? Explain with a good example program how containership is useful."
   ]
  },
  {
   "cell_type": "code",
   "execution_count": 37,
   "metadata": {},
   "outputs": [
    {
     "name": "stdout",
     "output_type": "stream",
     "text": [
      "Car: Ford Mustang 2021\n",
      "Engine: 300 HP V8\n",
      "Engine started\n",
      "Engine stopped\n"
     ]
    }
   ],
   "source": [
    "# The concept of containership in OOPs refers to the design principle where one class contains an object of another class.\n",
    "# This is also known as composition. It is a way to model a \"has-a\" relationship between objects.\n",
    "# For example, a Car \"has-a\" Engine, so the Car class would contain an Engine object.\n",
    "# Containership is different from inheritance, which models an \"is-a\" relationship.\n",
    "# Inheritance allows a class to inherit attributes and methods from another class, whereas containership allows a class to use the functionality of another class by containing its object.\n",
    "\n",
    "# Example program demonstrating containership:\n",
    "\n",
    "class Engine:\n",
    "    def __init__(self, horsepower, type):\n",
    "        self.horsepower = horsepower\n",
    "        self.type = type\n",
    "\n",
    "    def start(self):\n",
    "        print(\"Engine started\")\n",
    "\n",
    "    def stop(self):\n",
    "        print(\"Engine stopped\")\n",
    "\n",
    "class Car:\n",
    "    def __init__(self, make, model, year, engine):\n",
    "        self.make = make\n",
    "        self.model = model\n",
    "        self.year = year\n",
    "        self.engine = engine  # Car contains an Engine object\n",
    "\n",
    "    def display_details(self):\n",
    "        print(f\"Car: {self.make} {self.model} {self.year}\")\n",
    "        print(f\"Engine: {self.engine.horsepower} HP {self.engine.type}\")\n",
    "\n",
    "    def start_car(self):\n",
    "        self.engine.start()\n",
    "\n",
    "    def stop_car(self):\n",
    "        self.engine.stop()\n",
    "\n",
    "# Creating an Engine object\n",
    "engine = Engine(300, \"V8\")\n",
    "\n",
    "# Creating a Car object with the Engine object\n",
    "car = Car(\"Ford\", \"Mustang\", 2021, engine)\n",
    "\n",
    "# Displaying car details\n",
    "car.display_details()\n",
    "\n",
    "# Starting and stopping the car\n",
    "car.start_car()\n",
    "car.stop_car()"
   ]
  },
  {
   "cell_type": "code",
   "execution_count": null,
   "metadata": {},
   "outputs": [],
   "source": [
    "# 6. Design a Vector class that supports: i) 3D vector operations (addition, subtraction, dot product, cross product. ii) Scalar multiplication. iii) Magnitude calculation. iv) Operator overloading for +, ==, and < (compare magnitudes). Read 2 vectors from the console, create instances for each and demonstrate use of each method and operator overloading.\n"
   ]
  },
  {
   "cell_type": "code",
   "execution_count": 38,
   "metadata": {},
   "outputs": [
    {
     "name": "stdout",
     "output_type": "stream",
     "text": [
      "Addition: (2.0, 0.0, 4.0)\n",
      "Subtraction: (0.0, 4.0, 2.0)\n",
      "Dot Product: 0.0\n",
      "Cross Product: (8.0, 2.0, -4.0)\n",
      "Scalar Multiplication (v1 * 2): (2.0, 4.0, 6.0)\n",
      "Magnitude of v1: 3.7416573867739413\n",
      "Equal: False\n",
      "Less than: False\n"
     ]
    }
   ],
   "source": [
    "import math\n",
    "\n",
    "class Vector:\n",
    "    def __init__(self, x=0, y=0, z=0):\n",
    "        self.x, self.y, self.z = x, y, z\n",
    "\n",
    "    def __add__(self, v):\n",
    "        return Vector(self.x + v.x, self.y + v.y, self.z + v.z)\n",
    "\n",
    "    def __sub__(self, v):\n",
    "        return Vector(self.x - v.x, self.y - v.y, self.z - v.z)\n",
    "\n",
    "    def dot(self, v):\n",
    "        return self.x * v.x + self.y * v.y + self.z * v.z\n",
    "\n",
    "    def cross(self, v):\n",
    "        return Vector(self.y * v.z - self.z * v.y,\n",
    "                      self.z * v.x - self.x * v.z,\n",
    "                      self.x * v.y - self.y * v.x)\n",
    "\n",
    "    def __mul__(self, s):\n",
    "        return Vector(self.x * s, self.y * s, self.z * s)\n",
    "\n",
    "    def magnitude(self):\n",
    "        return math.sqrt(self.x ** 2 + self.y ** 2 + self.z ** 2)\n",
    "\n",
    "    def __eq__(self, v):\n",
    "        return self.magnitude() == v.magnitude()\n",
    "\n",
    "    def __lt__(self, v):\n",
    "        return self.magnitude() < v.magnitude()\n",
    "\n",
    "    def __str__(self):\n",
    "        return f\"({self.x}, {self.y}, {self.z})\"\n",
    "\n",
    "# Input & Demonstration\n",
    "x1, y1, z1 = map(float, input(\"Enter first vector (x y z): \").split())\n",
    "x2, y2, z2 = map(float, input(\"Enter second vector (x y z): \").split())\n",
    "\n",
    "v1, v2 = Vector(x1, y1, z1), Vector(x2, y2, z2)\n",
    "\n",
    "print(\"Addition:\", v1 + v2)\n",
    "print(\"Subtraction:\", v1 - v2)\n",
    "print(\"Dot Product:\", v1.dot(v2))\n",
    "print(\"Cross Product:\", v1.cross(v2))\n",
    "print(\"Scalar Multiplication (v1 * 2):\", v1 * 2)\n",
    "print(\"Magnitude of v1:\", v1.magnitude())\n",
    "print(\"Equal:\", v1 == v2)\n",
    "print(\"Less than:\", v1 < v2)\n"
   ]
  },
  {
   "cell_type": "code",
   "execution_count": null,
   "metadata": {},
   "outputs": [],
   "source": []
  }
 ],
 "metadata": {
  "kernelspec": {
   "display_name": "Python 3",
   "language": "python",
   "name": "python3"
  },
  "language_info": {
   "codemirror_mode": {
    "name": "ipython",
    "version": 3
   },
   "file_extension": ".py",
   "mimetype": "text/x-python",
   "name": "python",
   "nbconvert_exporter": "python",
   "pygments_lexer": "ipython3",
   "version": "3.11.4"
  }
 },
 "nbformat": 4,
 "nbformat_minor": 2
}
