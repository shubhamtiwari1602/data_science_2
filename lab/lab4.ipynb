{
 "cells": [
  {
   "cell_type": "code",
   "execution_count": 1,
   "metadata": {},
   "outputs": [],
   "source": [
    "#1 Determine if two strings are anagrams of each other. (An anagram is a word or phrase formed by rearranging the letters of a different word or phrase)"
   ]
  },
  {
   "cell_type": "code",
   "execution_count": 19,
   "metadata": {},
   "outputs": [
    {
     "name": "stdout",
     "output_type": "stream",
     "text": [
      "Yes\n"
     ]
    }
   ],
   "source": [
    "s1=\"shubhamm\"\n",
    "s2=\"bhshumam\"\n",
    "if sorted(s1)== sorted(s2): # return in order of ascii\n",
    "    print(\"Yes\")\n",
    "else:\n",
    "    print(\"False\")"
   ]
  },
  {
   "cell_type": "code",
   "execution_count": 4,
   "metadata": {},
   "outputs": [],
   "source": [
    "#2 Implement pow(x, n), which calculates x raised to the power n (i.e., x**n) using recursion."
   ]
  },
  {
   "cell_type": "code",
   "execution_count": 20,
   "metadata": {},
   "outputs": [
    {
     "name": "stdout",
     "output_type": "stream",
     "text": [
      "1024\n"
     ]
    }
   ],
   "source": [
    "def powxn(x,n):\n",
    "    if n==0:\n",
    "        return 1\n",
    "    else :\n",
    "        return x*powxn(x,n-1)\n",
    "print(powxn(2,10))\n"
   ]
  },
  {
   "cell_type": "code",
   "execution_count": 6,
   "metadata": {},
   "outputs": [],
   "source": [
    "# 6 Write a recursive function to the n-th term in the Fibonacci series. "
   ]
  },
  {
   "cell_type": "code",
   "execution_count": 22,
   "metadata": {},
   "outputs": [
    {
     "name": "stdout",
     "output_type": "stream",
     "text": [
      "55\n"
     ]
    }
   ],
   "source": [
    "def fib(n):\n",
    "    if n==1 or n==0 :\n",
    "        return n\n",
    "    else:\n",
    "        return fib(n-1)+fib(n-2)\n",
    "print(fib(10))"
   ]
  },
  {
   "cell_type": "code",
   "execution_count": null,
   "metadata": {},
   "outputs": [],
   "source": [
    "#7 Given a string, count the frequency of the characters using a dictionary."
   ]
  },
  {
   "cell_type": "code",
   "execution_count": 23,
   "metadata": {},
   "outputs": [
    {
     "name": "stdout",
     "output_type": "stream",
     "text": [
      "{'S': 1, 'h': 2, 'u': 1, 'b': 2, 'a': 2, 'm': 1, 'T': 1, 'i': 2, 'w': 1, 'r': 1, 'f': 1, 'k': 1, 'j': 1}\n"
     ]
    }
   ],
   "source": [
    "def count_character_frequency(input_string):\n",
    "    frequency_dict = {} # empty dic\n",
    "    \n",
    "    for char in input_string:\n",
    "        # If the character is already in the dic, count++\n",
    "        if char in frequency_dict:\n",
    "            frequency_dict[char] += 1\n",
    "        else:\n",
    "            # Otherwise, add the character to the dictionary with a count of 1\n",
    "            frequency_dict[char] = 1\n",
    "    \n",
    "    return frequency_dict\n",
    "\n",
    "s3 = \"ShubhamTiwarifkbj\"\n",
    "frequency = count_character_frequency(s3)\n",
    "print(frequency)\n"
   ]
  },
  {
   "cell_type": "code",
   "execution_count": 10,
   "metadata": {},
   "outputs": [],
   "source": [
    "# Write a function that takes a dictionary and renames a key, for example, renaming \"23\" to \"var\", preserving the original value."
   ]
  },
  {
   "cell_type": "code",
   "execution_count": 25,
   "metadata": {},
   "outputs": [
    {
     "name": "stdout",
     "output_type": "stream",
     "text": [
      "{'key2': 'value2', 'var1': 'value1'}\n"
     ]
    }
   ],
   "source": [
    "def rename_key(dictionary, old_key, new_key):\n",
    "\n",
    "    if old_key in dictionary:\n",
    "        # Preserve the value of the old key\n",
    "        dictionary[new_key] = dictionary.pop(old_key)\n",
    "    else:\n",
    "        print(f\"Key '{old_key}' not found in the dictionary.\")\n",
    "    \n",
    "    return dictionary\n",
    "\n",
    "# Example usage\n",
    "my_dict = {\"23\": \"value1\", \"key2\": \"value2\"}\n",
    "updated_dict = rename_key(my_dict, \"23\", \"var1\")\n",
    "print(updated_dict)\n"
   ]
  },
  {
   "cell_type": "code",
   "execution_count": 12,
   "metadata": {},
   "outputs": [],
   "source": [
    "#3 Solve quadratic equations using lambda function of the form a*x^2 +b*x+c=0"
   ]
  },
  {
   "cell_type": "code",
   "execution_count": 27,
   "metadata": {},
   "outputs": [
    {
     "name": "stdout",
     "output_type": "stream",
     "text": [
      "Roots: (2.0, 2.0)\n"
     ]
    }
   ],
   "source": [
    "from math import sqrt\n",
    "\n",
    "# Lambda function\n",
    "solve_quadratic = lambda a, b, c: (\n",
    "    ((-b + sqrt(b**2 - 4*a*c)) / (2*a), (-b - sqrt(b**2 - 4*a*c)) / (2*a))\n",
    "    if b**2 - 4*a*c >= 0 else \"No Real Roots\"\n",
    ")\n",
    "\n",
    "\n",
    "a, b, c = 1, -4, 4  # x^2 - 3x + 2 = 0\n",
    "roots = solve_quadratic(a, b, c)\n",
    "print(\"Roots:\", roots)\n"
   ]
  },
  {
   "cell_type": "code",
   "execution_count": 28,
   "metadata": {},
   "outputs": [
    {
     "name": "stdout",
     "output_type": "stream",
     "text": [
      "Ascending order: [1, 2, 5, 7, 9]\n",
      "Descending order: [9, 7, 5, 2, 1]\n",
      "Sorted by age: [('Bob', 22), ('Alice', 25), ('David', 27), ('Charlie', 30)]\n"
     ]
    }
   ],
   "source": [
    "# 5 You are given a list of numbers. Your task is to:\n",
    "\n",
    "# Sort the list in ascending order using a lambda function.\n",
    "# Sort the list in descending order using a lambda function.\n",
    "# Sort a list of tuples where each tuple contains a name and an age, based on age using a lambda function.\n",
    "# numbers = [5, 2, 9, 1, 7]\n",
    "# Input lists\n",
    "numbers = [5, 2, 9, 1, 7]\n",
    "people = [(\"Alice\", 25), (\"Bob\", 22), (\"Charlie\", 30), (\"David\", 27)]\n",
    "\n",
    "# Sorting the list in ascending order using a lambda function\n",
    "ascending_order = sorted(numbers, key=lambda x: x)\n",
    "\n",
    "# Sorting the list in descending order using a lambda function\n",
    "descending_order = sorted(numbers, key=lambda x: -x)\n",
    "\n",
    "# Sorting the list of tuples based on age using a lambda function\n",
    "sorted_by_age = sorted(people, key=lambda person: person[1])\n",
    "\n",
    "\n",
    "print(\"Ascending order:\", ascending_order)\n",
    "print(\"Descending order:\", descending_order)\n",
    "print(\"Sorted by age:\", sorted_by_age)\n"
   ]
  },
  {
   "cell_type": "code",
   "execution_count": null,
   "metadata": {},
   "outputs": [],
   "source": []
  }
 ],
 "metadata": {
  "kernelspec": {
   "display_name": "Python 3",
   "language": "python",
   "name": "python3"
  },
  "language_info": {
   "codemirror_mode": {
    "name": "ipython",
    "version": 3
   },
   "file_extension": ".py",
   "mimetype": "text/x-python",
   "name": "python",
   "nbconvert_exporter": "python",
   "pygments_lexer": "ipython3",
   "version": "3.11.4"
  }
 },
 "nbformat": 4,
 "nbformat_minor": 2
}
