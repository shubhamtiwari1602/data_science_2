{
 "cells": [
  {
   "cell_type": "code",
   "execution_count": 1,
   "metadata": {},
   "outputs": [
    {
     "name": "stdout",
     "output_type": "stream",
     "text": [
      "class9\n"
     ]
    }
   ],
   "source": [
    "print(\"class9\")"
   ]
  },
  {
   "cell_type": "code",
   "execution_count": 2,
   "metadata": {},
   "outputs": [
    {
     "name": "stdout",
     "output_type": "stream",
     "text": [
      "{10: 100, 20: 200, 'ED1': 'course'}\n"
     ]
    }
   ],
   "source": [
    "# dictionary - collection of key-valued pair rep. key:value\n",
    "dc= {10:100, 20:200, 'ED1':'course'}\n",
    "print(dc)\n"
   ]
  },
  {
   "cell_type": "code",
   "execution_count": 23,
   "metadata": {},
   "outputs": [
    {
     "name": "stdout",
     "output_type": "stream",
     "text": [
      "{'Alice': 0, 'Bob': 0, 'Charlie': 0}\n"
     ]
    }
   ],
   "source": [
    "dc1= {} # empty dict\n",
    "# dc.fromkeys()\n",
    "keys = [\"Alice\", \"Bob\", \"Charlie\"]\n",
    "students1 = dict.fromkeys(keys, 0)  # Assign initial score 0\n",
    "print(students1)\n"
   ]
  },
  {
   "cell_type": "code",
   "execution_count": 4,
   "metadata": {},
   "outputs": [
    {
     "name": "stdout",
     "output_type": "stream",
     "text": [
      "{10: 5, 20: 200, 'ED1': 'course'}\n"
     ]
    }
   ],
   "source": [
    "# key should be unique, immutable\n",
    "dc= {10:100, 20:200, 'ED1':'course', 10:5}\n",
    "print(dc) # print the last 10 key value not the first one"
   ]
  },
  {
   "cell_type": "code",
   "execution_count": 5,
   "metadata": {},
   "outputs": [
    {
     "name": "stdout",
     "output_type": "stream",
     "text": [
      "5\n",
      "200\n",
      "course\n"
     ]
    }
   ],
   "source": [
    "for ele in dc:\n",
    "    print(dc[ele]) # here key is used as index (not exactly index)"
   ]
  },
  {
   "cell_type": "code",
   "execution_count": 6,
   "metadata": {},
   "outputs": [
    {
     "name": "stdout",
     "output_type": "stream",
     "text": [
      "10 5\n",
      "20 200\n",
      "ED1 course\n"
     ]
    }
   ],
   "source": [
    "for k,v in dc.items():\n",
    "    print(k,v) # using the indexing idea to print"
   ]
  },
  {
   "cell_type": "code",
   "execution_count": 7,
   "metadata": {},
   "outputs": [
    {
     "name": "stdout",
     "output_type": "stream",
     "text": [
      "10\n",
      "20\n",
      "ED1\n"
     ]
    }
   ],
   "source": [
    "for l in dc.keys():\n",
    "    print(l) # prints the keys"
   ]
  },
  {
   "cell_type": "code",
   "execution_count": 8,
   "metadata": {},
   "outputs": [
    {
     "name": "stdout",
     "output_type": "stream",
     "text": [
      "5\n",
      "200\n",
      "course\n"
     ]
    }
   ],
   "source": [
    "for l in dc.keys():\n",
    "    print(dc[l]) # prints the value"
   ]
  },
  {
   "cell_type": "code",
   "execution_count": 9,
   "metadata": {},
   "outputs": [
    {
     "name": "stdout",
     "output_type": "stream",
     "text": [
      "5\n",
      "200\n",
      "course\n"
     ]
    }
   ],
   "source": [
    "for v in dc.values():\n",
    "    print(v) # prints the values"
   ]
  },
  {
   "cell_type": "code",
   "execution_count": 10,
   "metadata": {},
   "outputs": [
    {
     "name": "stdout",
     "output_type": "stream",
     "text": [
      "{0: 'raman', 1: 'ram', 2: 'john'}\n"
     ]
    }
   ],
   "source": [
    "tup = ((0,'raman'), (1, 'ram'), (2,'john'))\n",
    "# convert it to dict\n",
    "dc1={}\n",
    "for ele in tup:\n",
    "    dc1[ele[0]]= ele[1]\n",
    "    \n",
    "print(dc1)\n"
   ]
  },
  {
   "cell_type": "code",
   "execution_count": 11,
   "metadata": {},
   "outputs": [],
   "source": [
    "# two dic cannot be added\n",
    "# dic are mutable, (you can add, modify, or delete)\n",
    "dict56= {1:44,2:22,3:33,4:11, 0:00, 6:4}\n"
   ]
  },
  {
   "cell_type": "code",
   "execution_count": 12,
   "metadata": {},
   "outputs": [
    {
     "name": "stdout",
     "output_type": "stream",
     "text": [
      "6\n",
      "0\n",
      "6\n",
      "[0, 1, 2, 3, 4, 6]\n"
     ]
    }
   ],
   "source": [
    "# function : len, min, max, sum, sorted\n",
    "print(len(dict56)) \n",
    "print(min(dict56)) # min key\n",
    "print(max(dict56)) # max key\n",
    "print(sorted(dict56)) # sorting acc to key"
   ]
  },
  {
   "cell_type": "code",
   "execution_count": 13,
   "metadata": {},
   "outputs": [
    {
     "name": "stdout",
     "output_type": "stream",
     "text": [
      "Highest Scorer: David with 95\n",
      "Lowest Scorer: Charlie with 78\n",
      "\n",
      "Students sorted by name:\n",
      "Alice: 85\n",
      "Bob: 92\n",
      "Charlie: 78\n",
      "David: 95\n",
      "Eve: 88\n",
      "\n",
      "Students sorted by score:\n",
      "Charlie: 78\n",
      "Alice: 85\n",
      "Eve: 88\n",
      "Bob: 92\n",
      "David: 95\n",
      "\n",
      "After Adding Frank: {'Alice': 85, 'Bob': 92, 'Charlie': 78, 'David': 95, 'Eve': 88, 'Frank': 90}\n",
      "\n",
      "After Deleting Charlie: {'Alice': 85, 'Bob': 92, 'David': 95, 'Eve': 88, 'Frank': 90}\n",
      "\n",
      "After Modifying Alice's Score: {'Alice': 95, 'Bob': 92, 'David': 95, 'Eve': 88, 'Frank': 90}\n"
     ]
    }
   ],
   "source": [
    "# define a dict of student name and find the max min of dict\n",
    "# arrange them in sorted order \n",
    "# perform additon, deletion, modification\n",
    "# Define the dictionary\n",
    "# Define a dictionary of students with their scores\n",
    "students = {\n",
    "    \"Alice\": 85,\n",
    "    \"Bob\": 92,\n",
    "    \"Charlie\": 78,\n",
    "    \"David\": 95,\n",
    "    \"Eve\": 88\n",
    "}\n",
    "\n",
    "# Find the student with the maximum and minimum score\n",
    "max_student = max(students, key=students.get)  # Student with highest score\n",
    "min_student = min(students, key=students.get)  # Student with lowest score\n",
    "\n",
    "print(f\"Highest Scorer: {max_student} with {students[max_student]}\")\n",
    "print(f\"Lowest Scorer: {min_student} with {students[min_student]}\")\n",
    "\n",
    "# Sort students by name\n",
    "sorted_by_name = dict(sorted(students.items()))\n",
    "print(\"\\nStudents sorted by name:\")\n",
    "for name, score in sorted_by_name.items():\n",
    "    print(f\"{name}: {score}\")\n",
    "\n",
    "# Sort students by score\n",
    "sorted_by_score = dict(sorted(students.items(), key=lambda x: x[1]))\n",
    "print(\"\\nStudents sorted by score:\")\n",
    "for name, score in sorted_by_score.items():\n",
    "    print(f\"{name}: {score}\")\n",
    "\n",
    "# Add a new student\n",
    "students[\"Frank\"] = 90\n",
    "print(\"\\nAfter Adding Frank:\", students)\n",
    "\n",
    "# Delete a student\n",
    "del students[\"Charlie\"]\n",
    "print(\"\\nAfter Deleting Charlie:\", students)\n",
    "\n",
    "# Modify a student's score\n",
    "students[\"Alice\"] = 95\n",
    "print(\"\\nAfter Modifying Alice's Score:\", students)\n"
   ]
  },
  {
   "cell_type": "code",
   "execution_count": 14,
   "metadata": {},
   "outputs": [
    {
     "name": "stdout",
     "output_type": "stream",
     "text": [
      "{1: 44, 2: 22, 3: 33, 4: 11, 0: 0, 6: 4, 1234: 44, 22: 22, 30: 33, 45: 11, 5: 0, 8: 7, 1654: 44, 12: 11, 123: 0, 9: 10}\n"
     ]
    }
   ],
   "source": [
    "# three dict , concatenate them in a new dict and clear older ones\n",
    "dict1= {1:44,2:22,3:33,4:11, 0:00, 6:4}\n",
    "dict2={1234:44,22:22,30:33,45:11, 5:00, 8:7}\n",
    "dict3={1654:44,2:22,3:33,12:11, 123:00, 9:10}\n",
    "dict4={}\n",
    "for ele in dict1:\n",
    "    dict4[ele]= dict1[ele] # for that key fetch the value from dic1\n",
    "for ele in dict2:\n",
    "    dict4[ele]= dict2[ele]\n",
    "for ele in dict3:\n",
    "    dict4[ele]= dict3[ele]\n",
    "print(dict4)\n",
    "dict1.clear() # clear the entire dict\n",
    "dict2.clear()\n",
    "dict3.clear()"
   ]
  },
  {
   "cell_type": "code",
   "execution_count": 15,
   "metadata": {},
   "outputs": [
    {
     "name": "stdout",
     "output_type": "stream",
     "text": [
      "0\n"
     ]
    }
   ],
   "source": [
    "#help(dict1)\n",
    "print(len(dict1))\n",
    "#print(**dict4) #error - keywords must be strings"
   ]
  },
  {
   "cell_type": "code",
   "execution_count": 16,
   "metadata": {},
   "outputs": [
    {
     "name": "stdout",
     "output_type": "stream",
     "text": [
      "{'anand': {'dob': '1234', 'roll': 12345}, 'john': {'dob': '09876', 'roll': 9876}, 'steve': {'dob': '867548', 'roll': 6725}}\n",
      "{'anand': {'dob': '1234', 'roll': 12345}, 'john': {'dob': '09876', 'roll': 9876}, 'steve': {'dob': '234', 'roll': 6725}}\n"
     ]
    }
   ],
   "source": [
    "# nested dict\n",
    "# dict unpacking using *\n",
    "dict_nested= {'anand': {'dob': '1234', 'roll': 12345}, \n",
    "              'john' : {'dob':'09876', 'roll': 9876},\n",
    "              'steve':{'dob':'867548', 'roll':6725}}\n",
    "print(dict_nested)\n",
    "dict_nested['steve']['dob']= '234' # similar to 2d array\n",
    "print(dict_nested)"
   ]
  },
  {
   "cell_type": "code",
   "execution_count": 17,
   "metadata": {},
   "outputs": [
    {
     "name": "stdout",
     "output_type": "stream",
     "text": [
      "anand john steve\n"
     ]
    }
   ],
   "source": [
    "print(*dict_nested) # gives the unpacked keys"
   ]
  },
  {
   "cell_type": "code",
   "execution_count": 18,
   "metadata": {},
   "outputs": [],
   "source": [
    "#print(**dict_nested) error 'anand' is an invalid keyword argument for print()\n"
   ]
  },
  {
   "cell_type": "code",
   "execution_count": 19,
   "metadata": {},
   "outputs": [
    {
     "name": "stdout",
     "output_type": "stream",
     "text": [
      "dob roll\n"
     ]
    }
   ],
   "source": [
    "print(*dict_nested['anand']) # gives the keys of anand"
   ]
  },
  {
   "cell_type": "code",
   "execution_count": 20,
   "metadata": {},
   "outputs": [
    {
     "name": "stdout",
     "output_type": "stream",
     "text": [
      "1 2 3 4\n"
     ]
    }
   ],
   "source": [
    "print(*dict_nested['anand']['dob']) # gives the value of anand's dob"
   ]
  },
  {
   "cell_type": "code",
   "execution_count": 21,
   "metadata": {},
   "outputs": [
    {
     "name": "stdout",
     "output_type": "stream",
     "text": [
      "anand {'dob': '1234', 'roll': 12345}\n",
      "john {'dob': '09876', 'roll': 9876}\n",
      "steve {'dob': '234', 'roll': 6725}\n"
     ]
    }
   ],
   "source": [
    "for k , v in dict_nested.items():\n",
    "    print(k, v)"
   ]
  },
  {
   "cell_type": "code",
   "execution_count": 22,
   "metadata": {},
   "outputs": [
    {
     "name": "stdout",
     "output_type": "stream",
     "text": [
      "{0: 0, 1: 1, 2: 4, 3: 9, 4: 16, 5: 25, 6: 36, 7: 49, 8: 64, 9: 81}\n"
     ]
    }
   ],
   "source": [
    "# dict comprehension\n",
    "dic_comp= {i :i*i for i in range(10)}\n",
    "print(dic_comp)"
   ]
  },
  {
   "cell_type": "code",
   "execution_count": null,
   "metadata": {},
   "outputs": [],
   "source": []
  }
 ],
 "metadata": {
  "kernelspec": {
   "display_name": "Python 3",
   "language": "python",
   "name": "python3"
  },
  "language_info": {
   "codemirror_mode": {
    "name": "ipython",
    "version": 3
   },
   "file_extension": ".py",
   "mimetype": "text/x-python",
   "name": "python",
   "nbconvert_exporter": "python",
   "pygments_lexer": "ipython3",
   "version": "3.11.4"
  }
 },
 "nbformat": 4,
 "nbformat_minor": 2
}
