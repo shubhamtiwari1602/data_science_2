{
 "cells": [
  {
   "cell_type": "code",
   "execution_count": 1,
   "metadata": {},
   "outputs": [
    {
     "name": "stdout",
     "output_type": "stream",
     "text": [
      "class12\n"
     ]
    }
   ],
   "source": [
    "print(\"class12\")"
   ]
  },
  {
   "cell_type": "code",
   "execution_count": 2,
   "metadata": {},
   "outputs": [],
   "source": [
    "# every thing in python is an object"
   ]
  },
  {
   "cell_type": "code",
   "execution_count": 4,
   "metadata": {},
   "outputs": [
    {
     "name": "stdout",
     "output_type": "stream",
     "text": [
      "_____________________\n"
     ]
    }
   ],
   "source": [
    "# how to draw a line on monitor\n",
    "print(\"_____________________\")\n",
    "# open an app - eg - paint \n",
    "# it opens a window in system\n",
    "# qt - ui system\n"
   ]
  },
  {
   "cell_type": "code",
   "execution_count": 11,
   "metadata": {},
   "outputs": [
    {
     "name": "stdout",
     "output_type": "stream",
     "text": [
      "Ram 12 3\n",
      "shubham 196 6\n"
     ]
    }
   ],
   "source": [
    "class StudentDetail:\n",
    "    def datainput(self,n,r,s):\n",
    "        self.name = n\n",
    "        self.rollno= r\n",
    "        self.sem= s\n",
    "    def printout(self): # member function, - can be accessed only by object, like s1.printout()\n",
    "        print(self.name, self.rollno, self.sem)\n",
    "s1 = StudentDetail() # object instantiation\n",
    "s1.datainput(\"Ram\",12,3)\n",
    "s1.printout()\n",
    "s3 = StudentDetail()\n",
    "s3.datainput(\"shubham\",196,6)\n",
    "s3.printout()\n"
   ]
  },
  {
   "cell_type": "code",
   "execution_count": 16,
   "metadata": {},
   "outputs": [
    {
     "name": "stdout",
     "output_type": "stream",
     "text": [
      "gv 157 6\n",
      " 1 1\n",
      "gv 157 6\n"
     ]
    }
   ],
   "source": [
    "class StudentDetail1:\n",
    "    def __init__(self,n=\"\",r=1,s=1): # __init__ -> __ - underscore - default argument type - constructor\n",
    "        self.name = n    # self = s2\n",
    "        self.rollno= r\n",
    "        self.sem= s\n",
    "    def printout(self):\n",
    "        print(self.name, self.rollno, self.sem)\n",
    "\n",
    "s2= StudentDetail1(\"gv\",157,6) # object instantiation\n",
    "s2.printout() # constructor is auto called , no need to call like in the previous example \n",
    "s4= StudentDetail1()\n",
    "s4.printout() # print \"\" 1 1 - default values \n",
    "print(s2.name, s2.rollno, s2.sem) # printing data w/o using printout() - self =s2\n",
    "# no protection for the data as we are printing w/o using methods"
   ]
  },
  {
   "cell_type": "code",
   "execution_count": 17,
   "metadata": {},
   "outputs": [
    {
     "name": "stdout",
     "output_type": "stream",
     "text": [
      "Shubham 157 6\n",
      "Shubham 1 1\n",
      "Shubham 157 6\n"
     ]
    }
   ],
   "source": [
    "class StudentDetail1:\n",
    "    def __init__(self,n=\"\",r=1,s=1): # __init__ -> __ - underscore - default argument type - constructor\n",
    "        self.name = \"Shubham\"   # self = s2\n",
    "        self.rollno= r\n",
    "        self.sem= s\n",
    "    def printout(self):\n",
    "        print(self.name, self.rollno, self.sem)\n",
    "\n",
    "s2= StudentDetail1(\"gv\",157,6) # object instantiation\n",
    "s2.printout() # constructor is auto called , no need to call like in the previous example \n",
    "s4= StudentDetail1()\n",
    "s4.printout() # print \"\" 1 1 - default values \n",
    "print(s2.name, s2.rollno, s2.sem) # printing data w/o using printout() - self =s2\n",
    "# no protection for the data as we are printing w/o using methods"
   ]
  },
  {
   "cell_type": "code",
   "execution_count": 18,
   "metadata": {},
   "outputs": [],
   "source": [
    "# now i see that gv is not printing and it prints shubham\n"
   ]
  },
  {
   "cell_type": "code",
   "execution_count": null,
   "metadata": {},
   "outputs": [
    {
     "name": "stdout",
     "output_type": "stream",
     "text": [
      "Ram 12 3\n",
      "shubham 196 6\n",
      "shubham\n"
     ]
    }
   ],
   "source": [
    "# private data\n",
    "class StudentDetail3:\n",
    "    def datainput1(self,n,r,s): \n",
    "        self._name1 = n\n",
    "        self._rollno1= r\n",
    "        self._sem1= s\n",
    "    def printout(self): # member function, - can be accessed only by object, like s1.printout()\n",
    "        print(self._name1, self._rollno1, self._sem1)\n",
    "s1 = StudentDetail3() # object instantiation\n",
    "s1.datainput1(\"Ram\",12,3)\n",
    "s1.printout() \n",
    "s3 = StudentDetail3()\n",
    "s3.datainput1(\"shubham\",196,6)\n",
    "s3.printout()\n",
    "print(s3._name1) #- still gives the name\n",
    "\n"
   ]
  },
  {
   "cell_type": "code",
   "execution_count": null,
   "metadata": {},
   "outputs": [
    {
     "name": "stdout",
     "output_type": "stream",
     "text": [
      "Del Obj<__main__.StudentDetail5 object at 0x1072ec0d0>\n",
      "name :  S   Roll No. :  1   Sem :  1\n",
      "name :  Shubham   Roll No. :  1   Sem :  1\n",
      "name :  shubham   Roll No. :  23   Sem :  1\n",
      "name :  Gv   Roll No. :  24   Sem :  5\n"
     ]
    }
   ],
   "source": [
    "class StudentDetail5:\n",
    "    def __init__(self, n=\"S\", r=1, s=1):\n",
    "        self._name= n\n",
    "        self._roll=r \n",
    "        self._sem=s     \n",
    "    # printing the data \n",
    "    def printout(self):\n",
    "        print('name : ',self._name, \" \", \"Roll No. : \", self._roll, \" \", \"Sem : \", self._sem)\n",
    "    # destructor\n",
    "    def __del__(self):\n",
    "        print(\"Del Obj\"+ str(self))\n",
    "\n",
    "s1= StudentDetail5()\n",
    "s1.printout()\n",
    "s2= StudentDetail5(\"Shubham\")\n",
    "s2.printout()\n",
    "s3= StudentDetail5(\"shubham\",23)\n",
    "s3.printout()\n",
    "s4= StudentDetail5(\"Gv\", 24, 5)\n",
    "s4.printout()\n",
    "        "
   ]
  },
  {
   "cell_type": "code",
   "execution_count": 35,
   "metadata": {},
   "outputs": [
    {
     "name": "stdout",
     "output_type": "stream",
     "text": [
      "Del Obj<__main__.StudentDetail5 object at 0x1072f2450>\n",
      "name :  S   Roll No. :  1   Sem :  1\n",
      "Del Obj<__main__.StudentDetail5 object at 0x1072529d0>\n",
      "name :  Shubham   Roll No. :  1   Sem :  1\n",
      "Del Obj<__main__.StudentDetail5 object at 0x107243450>\n",
      "name :  shubham   Roll No. :  23   Sem :  1\n",
      "name :  Gv   Roll No. :  24   Sem :  5\n",
      "Gv\n",
      "Zade\n"
     ]
    }
   ],
   "source": [
    "class StudentDetail5:\n",
    "    def __init__(self, n=\"S\", r=1, s=1):\n",
    "        self._name= n\n",
    "        self.__roll=r\n",
    "        self.__sem=s\n",
    "    # printing the data\n",
    "    def printout(self):\n",
    "        print('name : ',self._name, \" \", \"Roll No. : \", self.__roll, \" \", \"Sem : \", self.__sem)\n",
    "    # destructor\n",
    "    def __del__(self):\n",
    "        print(\"Del Obj\"+ str(self))\n",
    "\n",
    "s1= StudentDetail5()\n",
    "s1.printout()\n",
    "s2= StudentDetail5(\"Shubham\")\n",
    "s2.printout()\n",
    "s3= StudentDetail5(\"shubham\",23)\n",
    "s3.printout()\n",
    "s4= StudentDetail5(\"Gv\", 24, 5)\n",
    "s4.printout()\n",
    "print(s4._name)\n",
    "s4._name= \"Zade\"\n",
    "print(s4._name) # its changing\n",
    "# s4.__roll= 1234567\n",
    "# print(s4.__sem) # cant change outside the class\n",
    "#print(s4.__roll) # error cant access new identifier, does not chaange - read more on this\n",
    "#print(s4.___sem) # error cant access"
   ]
  },
  {
   "cell_type": "code",
   "execution_count": null,
   "metadata": {},
   "outputs": [],
   "source": [
    "# if single underscore - data should not  notionally change outside the class \n",
    "# double underscore - data should not strictly change outside the class"
   ]
  },
  {
   "cell_type": "code",
   "execution_count": null,
   "metadata": {},
   "outputs": [],
   "source": []
  },
  {
   "cell_type": "code",
   "execution_count": null,
   "metadata": {},
   "outputs": [
    {
     "name": "stdout",
     "output_type": "stream",
     "text": [
      "Public Value\n",
      "Protected Value\n",
      "'MyClass' object has no attribute '__private'\n",
      "Private Value\n",
      "Public: Public Value\n",
      "Protected: Protected Value\n",
      "Private: Private Value\n"
     ]
    }
   ],
   "source": [
    "class MyClass:\n",
    "    def __init__(self, public, protected, private):\n",
    "        self.public = public\n",
    "        self._protected = protected\n",
    "        self.__private = private\n",
    "\n",
    "    def display(self):\n",
    "        print(f\"Public: {self.public}\")\n",
    "        print(f\"Protected: {self._protected}\")\n",
    "        print(f\"Private: {self.__private}\")\n",
    "\n",
    "obj = MyClass(\"Public Value\", \"Protected Value\", \"Private Value\")\n",
    "\n",
    "# Accessing public attribute\n",
    "print(obj.public)  # Output: Public Value\n",
    "\n",
    "# Accessing protected attribute\n",
    "print(obj._protected)  # Output: Protected Value\n",
    "\n",
    "# Accessing private attribute (will raise an AttributeError)\n",
    "try:\n",
    "    print(obj.__private)\n",
    "except AttributeError as e:\n",
    "    print(e)  # Output: 'MyClass' object has no attribute '__private'\n",
    "\n",
    "# Accessing private attribute using name mangling\n",
    "print(obj._MyClass__private)  # Output: Private Value\n",
    "\n",
    "# Display all attributes using class method\n",
    "obj.display() "
   ]
  },
  {
   "cell_type": "code",
   "execution_count": null,
   "metadata": {},
   "outputs": [],
   "source": []
  },
  {
   "cell_type": "markdown",
   "metadata": {},
   "source": [
    "Sure, I'll explain the difference between single underscore `_` and double underscore `__` in Python with comments in the code.\n",
    "\n"
   ]
  },
  {
   "cell_type": "code",
   "execution_count": null,
   "metadata": {},
   "outputs": [],
   "source": [
    "# Single underscore (_) is a convention to indicate that a variable is intended for internal use.\n",
    "# It is a weak \"internal use\" indicator. It is not enforced by the Python interpreter.\n",
    "\n",
    "class MyClass:\n",
    "    def __init__(self):\n",
    "        self._internal_variable = 42  # This is intended for internal use only\n",
    "\n",
    "    def get_internal_variable(self):\n",
    "        return self._internal_variable\n",
    "\n",
    "# Double underscore (__) is used to name-mangle a variable to make it harder to create subclasses that accidentally override the private attributes and methods.\n",
    "# It is a stronger \"internal use\" indicator. The Python interpreter changes the name of the variable to include the class name.\n",
    "\n",
    "class MyClassWithPrivate:\n",
    "    def __init__(self):\n",
    "        self.__private_variable = 99  # This is intended to be private\n",
    "\n",
    "    def get_private_variable(self):\n",
    "        return self.__private_variable\n",
    "\n",
    "# Creating instances of the classes\n",
    "my_instance = MyClass()\n",
    "print(my_instance.get_internal_variable())  # Output: 42\n",
    "\n",
    "my_private_instance = MyClassWithPrivate()\n",
    "print(my_private_instance.get_private_variable())  # Output: 99\n",
    "\n",
    "# Accessing the variables directly\n",
    "print(my_instance._internal_variable)  # Output: 42 (accessible, but should be treated as internal)\n",
    "\n",
    "# The following line would raise an AttributeError because __private_variable is name-mangled\n",
    "# print(my_private_instance.__private_variable)  # Uncommenting this line will raise an AttributeError\n",
    "\n",
    "# However, you can still access the name-mangled variable like this:\n",
    "print(my_private_instance._MyClassWithPrivate__private_variable)  # Output: 99 (not recommended)"
   ]
  },
  {
   "cell_type": "markdown",
   "metadata": {},
   "source": [
    "\n",
    "\n",
    "In summary:\n",
    "- Single underscore `_` is a convention to indicate that a variable is for internal use.\n",
    "- Double underscore `__` triggers name mangling to make it harder to accidentally override private attributes and methods in subclasses."
   ]
  }
 ],
 "metadata": {
  "kernelspec": {
   "display_name": "Python 3",
   "language": "python",
   "name": "python3"
  },
  "language_info": {
   "codemirror_mode": {
    "name": "ipython",
    "version": 3
   },
   "file_extension": ".py",
   "mimetype": "text/x-python",
   "name": "python",
   "nbconvert_exporter": "python",
   "pygments_lexer": "ipython3",
   "version": "3.11.4"
  }
 },
 "nbformat": 4,
 "nbformat_minor": 2
}
