{
 "cells": [
  {
   "cell_type": "code",
   "execution_count": 1,
   "metadata": {},
   "outputs": [
    {
     "name": "stdout",
     "output_type": "stream",
     "text": [
      "class10\n"
     ]
    }
   ],
   "source": [
    "print(\"class10\")"
   ]
  },
  {
   "cell_type": "code",
   "execution_count": 2,
   "metadata": {},
   "outputs": [],
   "source": [
    "# functions in python\n",
    "# formal arg- def add(a,b):\n",
    "# actual arg - add(x,y)\n",
    "# implement scanf from scratch\n",
    "\n"
   ]
  },
  {
   "cell_type": "code",
   "execution_count": null,
   "metadata": {},
   "outputs": [
    {
     "ename": "NameError",
     "evalue": "name 'cal_sum1' is not defined",
     "output_type": "error",
     "traceback": [
      "\u001b[0;31m---------------------------------------------------------------------------\u001b[0m",
      "\u001b[0;31mNameError\u001b[0m                                 Traceback (most recent call last)",
      "Cell \u001b[0;32mIn[6], line 3\u001b[0m\n\u001b[1;32m      1\u001b[0m a\u001b[38;5;241m=\u001b[39m\u001b[38;5;241m4\u001b[39m\n\u001b[1;32m      2\u001b[0m b\u001b[38;5;241m=\u001b[39m\u001b[38;5;241m3\u001b[39m\n\u001b[0;32m----> 3\u001b[0m su\u001b[38;5;241m=\u001b[39m \u001b[43mcal_sum1\u001b[49m(a,b)\n\u001b[1;32m      4\u001b[0m \u001b[38;5;28mprint\u001b[39m(su)\n\u001b[1;32m      5\u001b[0m \u001b[38;5;28;01mdef\u001b[39;00m \u001b[38;5;21mcal_sum1\u001b[39m(x,y):\n",
      "\u001b[0;31mNameError\u001b[0m: name 'cal_sum1' is not defined"
     ]
    }
   ],
   "source": [
    "\n",
    "a=4\n",
    "b=3\n",
    "su= cal_sum1(a,b)\n",
    "print(su)\n",
    "def cal_sum1(x,y): # does not work - it should be defined before calling\n",
    "    s= x+y\n",
    "    return s\n"
   ]
  },
  {
   "cell_type": "code",
   "execution_count": 9,
   "metadata": {},
   "outputs": [
    {
     "name": "stdout",
     "output_type": "stream",
     "text": [
      "11.34 SHUBHAM\n",
      "(11.34, 'SHUBHAM')\n"
     ]
    }
   ],
   "source": [
    "# positional arg- order/ type has to match\n",
    "# ketword arg- order need not match\n",
    "def pos_fun(i,f,st):\n",
    "    su1= i+f\n",
    "    st1= st.upper()\n",
    "    return su1, st1\n",
    "i1, f1, st1= 5,6.34, 'shubham'\n",
    "out1, out2= pos_fun(i1,f1,st1)\n",
    "print(out1,out2)\n",
    "out3= pos_fun(i1,f1,st1)\n",
    "print(out3) # returns as a tuple\n",
    "# print(pos_fun(i1,st1,f1)) - unsupported operand type(s) for +: 'int' and 'str'"
   ]
  },
  {
   "cell_type": "code",
   "execution_count": 10,
   "metadata": {},
   "outputs": [
    {
     "name": "stdout",
     "output_type": "stream",
     "text": [
      "(14.56, 'ASDF')\n"
     ]
    }
   ],
   "source": [
    "# keyword arg\n",
    "out_lst2= pos_fun(i=4, f=10.56, st= 'asdf') # assigning while calling - keyword arg\n",
    "print(out_lst2)"
   ]
  },
  {
   "cell_type": "code",
   "execution_count": 11,
   "metadata": {},
   "outputs": [
    {
     "name": "stdout",
     "output_type": "stream",
     "text": [
      "(127.123, 'ASDFGG')\n"
     ]
    }
   ],
   "source": [
    "out_lst3= pos_fun(i=4, st='asdfgg', f=123.123) # order is changed but still words coz of keyword arg\n",
    "print(out_lst3)"
   ]
  },
  {
   "cell_type": "code",
   "execution_count": 13,
   "metadata": {},
   "outputs": [
    {
     "name": "stdout",
     "output_type": "stream",
     "text": [
      "(77.54, 'RET')\n"
     ]
    }
   ],
   "source": [
    "# can mixed are allowed\n",
    "a=4\n",
    "print(pos_fun(10,st='ret', f=67.54)) # works - positional comes first then keywords and works"
   ]
  },
  {
   "cell_type": "code",
   "execution_count": null,
   "metadata": {},
   "outputs": [],
   "source": [
    "#print(pos_fun(st='ret', f=67.54,10)) error-  positional argument follows keyword argument"
   ]
  },
  {
   "cell_type": "code",
   "execution_count": 16,
   "metadata": {},
   "outputs": [],
   "source": [
    "# variable len positional arg - scanf\n",
    "# var len keyword arg"
   ]
  },
  {
   "cell_type": "code",
   "execution_count": 17,
   "metadata": {},
   "outputs": [
    {
     "name": "stdout",
     "output_type": "stream",
     "text": [
      "1 <class 'int'>\n",
      "2 <class 'int'>\n",
      "None\n"
     ]
    }
   ],
   "source": [
    "def var_arg(*args):\n",
    "    for var in args:\n",
    "        print(var,type(var))\n",
    "\n",
    "print(var_arg(1,2))"
   ]
  },
  {
   "cell_type": "code",
   "execution_count": 18,
   "metadata": {},
   "outputs": [
    {
     "name": "stdout",
     "output_type": "stream",
     "text": [
      "[1, 2, 3, 4] <class 'list'>\n",
      "None\n"
     ]
    }
   ],
   "source": [
    "lst= [1,2,3,4]\n",
    "print(var_arg(lst))"
   ]
  },
  {
   "cell_type": "code",
   "execution_count": 19,
   "metadata": {},
   "outputs": [
    {
     "name": "stdout",
     "output_type": "stream",
     "text": [
      "i 10\n",
      "None\n",
      "i 10\n",
      "j 234.43\n",
      "None\n",
      "i 10\n",
      "j 234.43\n",
      "k shubhham\n",
      "None\n"
     ]
    }
   ],
   "source": [
    "def kwvar_arg(**kwargs): # ** dictionary \n",
    "    for k,v in kwargs.items():\n",
    "        print(k,v)\n",
    "\n",
    "print(kwvar_arg(i=10))\n",
    "print(kwvar_arg(i=10,j=234.43))\n",
    "print(kwvar_arg(i=10,j=234.43, k='shubhham'))"
   ]
  },
  {
   "cell_type": "code",
   "execution_count": 28,
   "metadata": {},
   "outputs": [
    {
     "name": "stdout",
     "output_type": "stream",
     "text": [
      "1 <class 'int'>\n",
      "2.43 <class 'float'>\n",
      "43 <class 'int'>\n",
      "i 1\n",
      "j 12.32\n",
      "s shubham\n",
      "None\n"
     ]
    }
   ],
   "source": [
    "# mid sem - march 1st week / 2nd week\n",
    "\n",
    "# class work and lab - binary grade \n",
    "\n",
    "def funct(*arg, **karg):\n",
    "    for var in arg:\n",
    "        print(var, type(var))\n",
    "    for u, v in karg.items():\n",
    "        print(u,v)\n",
    "\n",
    "\n",
    "print(funct(1,2.43,43,i=1,j=12.32,s='shubham'))\n",
    "# print(funct(i=1,j=12.32,s='shubham',1,3))  - error - pos should comes first\n",
    "# order - pos, var_pos, keyword,  var_keyword"
   ]
  },
  {
   "cell_type": "code",
   "execution_count": 29,
   "metadata": {},
   "outputs": [
    {
     "name": "stdout",
     "output_type": "stream",
     "text": [
      "1\n",
      "None\n",
      "0\n",
      "None\n"
     ]
    }
   ],
   "source": [
    "# default arg\n",
    "def torf(cond=True):\n",
    "    if cond==True:\n",
    "        print('1')\n",
    "    else :\n",
    "        print('0')\n",
    "print(torf()) # by default the value is true\n",
    "print(torf(False)) # we can change it by explicitly defining"
   ]
  },
  {
   "cell_type": "code",
   "execution_count": null,
   "metadata": {},
   "outputs": [],
   "source": []
  }
 ],
 "metadata": {
  "kernelspec": {
   "display_name": "Python 3",
   "language": "python",
   "name": "python3"
  },
  "language_info": {
   "codemirror_mode": {
    "name": "ipython",
    "version": 3
   },
   "file_extension": ".py",
   "mimetype": "text/x-python",
   "name": "python",
   "nbconvert_exporter": "python",
   "pygments_lexer": "ipython3",
   "version": "3.11.4"
  }
 },
 "nbformat": 4,
 "nbformat_minor": 2
}
