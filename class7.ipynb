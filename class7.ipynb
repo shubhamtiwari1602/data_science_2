{
 "cells": [
  {
   "cell_type": "code",
   "execution_count": 1,
   "metadata": {},
   "outputs": [
    {
     "name": "stdout",
     "output_type": "stream",
     "text": [
      "class7\n"
     ]
    }
   ],
   "source": [
    "print(\"class7\") \n"
   ]
  },
  {
   "cell_type": "code",
   "execution_count": 2,
   "metadata": {},
   "outputs": [
    {
     "name": "stdout",
     "output_type": "stream",
     "text": [
      "<class 'tuple'>\n"
     ]
    }
   ],
   "source": [
    "# tuple container - is a collection of heterogenous data types enclosed in ()\n",
    "# tuple is immutable - cannot be changed\n",
    "empty_tuple = ()\n",
    "print(type(empty_tuple))\n"
   ]
  },
  {
   "cell_type": "code",
   "execution_count": 4,
   "metadata": {},
   "outputs": [
    {
     "name": "stdout",
     "output_type": "stream",
     "text": [
      "1\n"
     ]
    }
   ],
   "source": [
    "tup1= (1)\n",
    "print(tup1)"
   ]
  },
  {
   "cell_type": "code",
   "execution_count": 5,
   "metadata": {},
   "outputs": [
    {
     "name": "stdout",
     "output_type": "stream",
     "text": [
      "(1,)\n"
     ]
    }
   ],
   "source": [
    "tup2= (1,)\n",
    "print(tup2)"
   ]
  },
  {
   "cell_type": "code",
   "execution_count": 6,
   "metadata": {},
   "outputs": [],
   "source": [
    "# difference b/t tup1 and tup2 is the comma at the end of tup2 which makes it a tuple\n",
    "# if there is no comma, it is considered as an integer"
   ]
  },
  {
   "cell_type": "code",
   "execution_count": 7,
   "metadata": {},
   "outputs": [
    {
     "name": "stdout",
     "output_type": "stream",
     "text": [
      "1\n",
      "2\n",
      "3\n",
      "4\n",
      "5\n"
     ]
    }
   ],
   "source": [
    "# tuple is iterable\n",
    "tup3= (1,2,3,4,5)\n",
    "for ele in tup3:\n",
    "    print(ele)"
   ]
  },
  {
   "cell_type": "code",
   "execution_count": 8,
   "metadata": {},
   "outputs": [
    {
     "name": "stdout",
     "output_type": "stream",
     "text": [
      "(2, 3)\n"
     ]
    }
   ],
   "source": [
    "print(tup3[1:3])"
   ]
  },
  {
   "cell_type": "code",
   "execution_count": 9,
   "metadata": {},
   "outputs": [
    {
     "name": "stdout",
     "output_type": "stream",
     "text": [
      "(1, 2, 3, 4)\n"
     ]
    }
   ],
   "source": [
    "print(tup3[:4])"
   ]
  },
  {
   "cell_type": "code",
   "execution_count": 11,
   "metadata": {},
   "outputs": [
    {
     "name": "stdout",
     "output_type": "stream",
     "text": [
      "<class 'int'>\n"
     ]
    }
   ],
   "source": [
    "# in a tuple , number of objects of each type is fixed\n",
    "tup4= (1,2,3,4,5,1,2,3,4,5,\"shubham\")\n",
    "print(type(tup4.count(1)))\n"
   ]
  },
  {
   "cell_type": "code",
   "execution_count": 13,
   "metadata": {},
   "outputs": [],
   "source": [
    "tup5=(1,4,5)\n",
    "# tup5[0]=3\n",
    "# this will give an error as tuple is immutable\n"
   ]
  },
  {
   "cell_type": "code",
   "execution_count": 14,
   "metadata": {},
   "outputs": [
    {
     "name": "stdout",
     "output_type": "stream",
     "text": [
      "(1, 2, 3, 4, 5, 1, 2, 3, 4, 5, 'shubham', 1, 4, 5)\n"
     ]
    }
   ],
   "source": [
    "tup6 = tup4+ tup5\n",
    "print(tup6)"
   ]
  },
  {
   "cell_type": "code",
   "execution_count": 17,
   "metadata": {},
   "outputs": [],
   "source": [
    "# sort work on same data type\n"
   ]
  },
  {
   "cell_type": "code",
   "execution_count": 18,
   "metadata": {},
   "outputs": [
    {
     "name": "stdout",
     "output_type": "stream",
     "text": [
      "[1, 2, 3, 4, 4, 5]\n"
     ]
    }
   ],
   "source": [
    "tup7= (4,2,4,1,5,3)\n",
    "print(sorted(tup7))\n"
   ]
  },
  {
   "cell_type": "code",
   "execution_count": 19,
   "metadata": {},
   "outputs": [],
   "source": [
    "# function in list but not in tuple\n",
    "# append, insert, remove, pop, clear, reverse, sort are not present in tuple\n",
    "# count, index, len, max, min, sum, sorted are present in tuple"
   ]
  },
  {
   "cell_type": "code",
   "execution_count": 20,
   "metadata": {},
   "outputs": [
    {
     "name": "stdout",
     "output_type": "stream",
     "text": [
      "<generator object <genexpr> at 0x107ab5e50>\n"
     ]
    }
   ],
   "source": [
    "# tuple comprehensation\n",
    "tup8= (i for i in range(10))\n",
    "print(tup8) # this will give a generator object"
   ]
  },
  {
   "cell_type": "code",
   "execution_count": 21,
   "metadata": {},
   "outputs": [
    {
     "name": "stdout",
     "output_type": "stream",
     "text": [
      "(0, 1, 2, 3, 4, 5, 6, 7, 8, 9)\n"
     ]
    }
   ],
   "source": [
    "# do list comprehension and then convert it to tuple\n",
    "tup9= tuple(i for i in range(10))\n",
    "print(tup9)"
   ]
  },
  {
   "cell_type": "code",
   "execution_count": 23,
   "metadata": {},
   "outputs": [
    {
     "name": "stdout",
     "output_type": "stream",
     "text": [
      "((0, 1, 2, 3, 4, 5, 6, 7, 8, 9), (4, 2, 4, 1, 5, 3))\n"
     ]
    }
   ],
   "source": [
    "tup10= (tup9, tup7)\n",
    "print(tup10)"
   ]
  },
  {
   "cell_type": "code",
   "execution_count": 24,
   "metadata": {},
   "outputs": [
    {
     "name": "stdout",
     "output_type": "stream",
     "text": [
      "((0, 1, 2, 3, 4, 5, 6, 7, 8, 9), (1, 2, 3, 4, 5))\n"
     ]
    }
   ],
   "source": [
    "# tuple embedded in tuple\n",
    "tup11= (tup9, (1,2,3,4,5))\n",
    "print(tup11)"
   ]
  },
  {
   "cell_type": "code",
   "execution_count": 25,
   "metadata": {},
   "outputs": [
    {
     "name": "stdout",
     "output_type": "stream",
     "text": [
      "1\n",
      "2\n",
      "[3, 4, 5]\n"
     ]
    }
   ],
   "source": [
    "# tuple unpacking using *\n",
    "tup12= (1,2,3,4,5)\n",
    "a,b,*c= tup12\n",
    "print(a)\n",
    "print(b)\n",
    "print(c)"
   ]
  },
  {
   "cell_type": "code",
   "execution_count": 27,
   "metadata": {},
   "outputs": [
    {
     "name": "stdout",
     "output_type": "stream",
     "text": [
      "[(1, 2, 3, 4, 5)]\n",
      "(4, 2, 4, 1, 5, 3)\n"
     ]
    }
   ],
   "source": [
    "tup13= (tup12,tup7)\n",
    "# unpacking of tuple of tuple\n",
    "*a,b= tup13\n",
    "\n",
    "print(a)\n",
    "print(b)"
   ]
  },
  {
   "cell_type": "code",
   "execution_count": 42,
   "metadata": {},
   "outputs": [
    {
     "name": "stdout",
     "output_type": "stream",
     "text": [
      "([], ['ram', 'male'], ['raja', 'male'], ['geetha', 'female'], ['sita', 'female'])\n",
      "[('ram', 'male'), ('raja', 'male'), ('geetha', 'female'), ('sita', 'female')]\n"
     ]
    }
   ],
   "source": [
    "names = (\"ram\",\"raja\",\"geetha\",\"sita\")\n",
    "gender= (\"male\",\"male\",\"female\",\"female\")\n",
    "list3=[[]]\n",
    "for i in range(len(names)):\n",
    "\n",
    "    list3.append([names[i],gender[i]]) \n",
    "\n",
    "\n",
    "tuple2= tuple(list3)\n",
    "print(tuple2)\n",
    "tuple3= [(names[index],gender[index])for index in range(len(names))]\n",
    "print(tuple3)\n"
   ]
  },
  {
   "cell_type": "code",
   "execution_count": 31,
   "metadata": {},
   "outputs": [],
   "source": [
    "# zip function\n",
    "# zip function is used to combine two or more iterables\n",
    "# zip function returns a zip object \n",
    "# zip object is an iterator of tuples where the first item in each passed iterator is paired together\n"
   ]
  },
  {
   "cell_type": "code",
   "execution_count": 32,
   "metadata": {},
   "outputs": [
    {
     "name": "stdout",
     "output_type": "stream",
     "text": [
      "('ram', 'male') ('raja', 'male') ('geetha', 'female') ('sita', 'female')\n"
     ]
    }
   ],
   "source": [
    "ite= zip(names,gender)\n",
    "print(*ite) # this will give a zip object which is an iterator of tuples where the first item in each passed iterator is paired together"
   ]
  },
  {
   "cell_type": "code",
   "execution_count": 35,
   "metadata": {},
   "outputs": [
    {
     "name": "stdout",
     "output_type": "stream",
     "text": [
      "ram male\n",
      "raja male\n",
      "geetha female\n",
      "sita female\n"
     ]
    }
   ],
   "source": [
    "for ite in zip(names,gender):\n",
    "    print(*ite) \n",
    "# there is an ite built in print function which is used to unpack the tuple\n",
    "#ite ->next() will give the next tuple"
   ]
  },
  {
   "cell_type": "code",
   "execution_count": 36,
   "metadata": {},
   "outputs": [],
   "source": [
    "# difference b/t both print statements\n",
    "# in first print statement, it is printing the zip object\n",
    "# in second print statement, it is printing the elements of the zip object"
   ]
  },
  {
   "cell_type": "code",
   "execution_count": null,
   "metadata": {},
   "outputs": [],
   "source": [
    "matrix = [[1, 2, 3], [4, 5, 6], [7, 8, 9]]\n",
    "transpose = []\n",
    "\n",
    "transposed_matrix = zip(*matrix)\n",
    "\n",
    "for row in transposed_matrix:\n",
    "  transpose.append(list(row))\n",
    "\n",
    "print(transpose)  # Output: [[1, 4, 7], [2, 5, 8], [3, 6, 9]]\n",
    "\n",
    "\n",
    "\n",
    "\n",
    "\n"
   ]
  },
  {
   "cell_type": "code",
   "execution_count": null,
   "metadata": {},
   "outputs": [],
   "source": [
    "matrix = [[1, 2, 3], [4, 5, 6], [7, 8, 9]]\n",
    "\n",
    "transposed_matrix = [list(row) for row in zip(*matrix)]\n",
    "\n",
    "print(transposed_matrix)\n"
   ]
  }
 ],
 "metadata": {
  "kernelspec": {
   "display_name": "Python 3",
   "language": "python",
   "name": "python3"
  },
  "language_info": {
   "codemirror_mode": {
    "name": "ipython",
    "version": 3
   },
   "file_extension": ".py",
   "mimetype": "text/x-python",
   "name": "python",
   "nbconvert_exporter": "python",
   "pygments_lexer": "ipython3",
   "version": "3.11.4"
  }
 },
 "nbformat": 4,
 "nbformat_minor": 2
}
