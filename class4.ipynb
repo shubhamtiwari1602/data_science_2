{
 "cells": [
  {
   "cell_type": "code",
   "execution_count": null,
   "metadata": {},
   "outputs": [],
   "source": [
    "print('class4')"
   ]
  },
  {
   "cell_type": "code",
   "execution_count": 1,
   "metadata": {},
   "outputs": [
    {
     "name": "stdout",
     "output_type": "stream",
     "text": [
      "b is greater than a\n"
     ]
    }
   ],
   "source": [
    "# conditional statements and loops\n",
    "# if, elif, else \n",
    "a=3\n",
    "b=4\n",
    "\n",
    "if a>b :\n",
    "    print('a is greater than b')\n",
    "else :\n",
    "    print('b is greater than a')\n",
    "\n",
    " "
   ]
  },
  {
   "cell_type": "code",
   "execution_count": null,
   "metadata": {},
   "outputs": [],
   "source": [
    " # ==, !=, >, <, >=, <=\n",
    "item = input(\"enter the value of item :  \")\n",
    "item = int(item)\n",
    "# discount\n",
    "if item <10:\n",
    "    dis= 10\n"
   ]
  },
  {
   "cell_type": "code",
   "execution_count": 5,
   "metadata": {},
   "outputs": [
    {
     "name": "stdout",
     "output_type": "stream",
     "text": [
      "False\n",
      "a is the smallest\n"
     ]
    }
   ],
   "source": [
    "a, b, c, d= -5,-2,-3,4\n",
    "print(a==b)\n",
    "if a<b and a<c and a<d:\n",
    "    print(\"a is the smallest\")"
   ]
  },
  {
   "cell_type": "code",
   "execution_count": 4,
   "metadata": {},
   "outputs": [
    {
     "name": "stdout",
     "output_type": "stream",
     "text": [
      "True\n"
     ]
    }
   ],
   "source": [
    "a= 7\n",
    "b= 9\n",
    "print(a!=b!=a)"
   ]
  },
  {
   "cell_type": "code",
   "execution_count": null,
   "metadata": {},
   "outputs": [
    {
     "name": "stdout",
     "output_type": "stream",
     "text": [
      "x is true\n"
     ]
    }
   ],
   "source": [
    "x=9 # any non zero number is true\n",
    " \n",
    "if x: # takes x as true\n",
    "    print('x is true')\n"
   ]
  },
  {
   "cell_type": "code",
   "execution_count": 8,
   "metadata": {},
   "outputs": [
    {
     "name": "stdout",
     "output_type": "stream",
     "text": [
      "y is false\n"
     ]
    }
   ],
   "source": [
    "y =0\n",
    "if y:\n",
    "    print('y is true')\n",
    "else:\n",
    "    print('y is false')"
   ]
  },
  {
   "cell_type": "code",
   "execution_count": 16,
   "metadata": {},
   "outputs": [
    {
     "name": "stdout",
     "output_type": "stream",
     "text": [
      "j is largest\n"
     ]
    }
   ],
   "source": [
    "# largest of three numbers using only relational operators\n",
    "i= 1\n",
    "j= 3\n",
    "k = -34\n",
    "if i>j>k or i>k>j:\n",
    "    print('i is largest')\n",
    "elif j>i>k or j>k>i:\n",
    "    print('j is largest')\n",
    "else:\n",
    "    print('k is largest')\n"
   ]
  },
  {
   "cell_type": "code",
   "execution_count": null,
   "metadata": {},
   "outputs": [],
   "source": [
    "# logical operators\n",
    "# and, or, not\n",
    "\n",
    "i= 1\n",
    "j= 1\n",
    "k = -34\n",
    "if i>=j and i>=k:\n",
    "    print('i is largest')\n",
    "elif j>=i and j>=k:\n",
    "    print('j is largest')\n",
    "else:\n",
    "    print('k is largest')\n"
   ]
  },
  {
   "cell_type": "code",
   "execution_count": 17,
   "metadata": {},
   "outputs": [
    {
     "name": "stdout",
     "output_type": "stream",
     "text": [
      "a is false\n"
     ]
    }
   ],
   "source": [
    "# not operator\n",
    "# example\n",
    "a = 0\n",
    "if not a:\n",
    "    print('a is false')"
   ]
  },
  {
   "cell_type": "code",
   "execution_count": 18,
   "metadata": {},
   "outputs": [
    {
     "name": "stdout",
     "output_type": "stream",
     "text": [
      "5\n",
      "3\n",
      "1\n"
     ]
    }
   ],
   "source": [
    "# loops\n",
    "# there is no do while loop in python\n",
    "# while loop\n",
    "a= 5\n",
    "while a>0:\n",
    "    print(a)\n",
    "    a= a-2"
   ]
  },
  {
   "cell_type": "code",
   "execution_count": 19,
   "metadata": {},
   "outputs": [],
   "source": [
    "# for loop\n",
    "# for ele in seq : - meaning - for each element in sequence\n",
    "# sequence can be list, tuple, string, dictionary, set\n",
    "# # iteratable and iterator - iteratable is an object that can be iterated over\n",
    "# while ueses condition \n"
   ]
  },
  {
   "cell_type": "code",
   "execution_count": 20,
   "metadata": {},
   "outputs": [
    {
     "name": "stdout",
     "output_type": "stream",
     "text": [
      "s\n",
      "h\n",
      "u\n",
      "b\n",
      "h\n",
      "a\n",
      "m\n"
     ]
    }
   ],
   "source": [
    "str1 = \"shubham\"\n",
    "for ele in str1:\n",
    "    print(ele)"
   ]
  },
  {
   "cell_type": "code",
   "execution_count": 31,
   "metadata": {},
   "outputs": [
    {
     "name": "stdout",
     "output_type": "stream",
     "text": [
      "0 s\n",
      "1 h\n",
      "2 u\n",
      "3 b\n",
      "4 h\n",
      "5 a\n",
      "6 m\n"
     ]
    }
   ],
   "source": [
    "# while ele in str1: - true as ele is in the str1-  infinte loop\n",
    "i =0\n",
    "while i< len(str1):\n",
    "    print(i, str1[i])\n",
    "    i= i+1"
   ]
  },
  {
   "cell_type": "code",
   "execution_count": 23,
   "metadata": {},
   "outputs": [],
   "source": [
    "# for i< len(str1):\n",
    "#     print(i, str1[i])\n",
    "#     i= i+1 # syntax error"
   ]
  },
  {
   "cell_type": "code",
   "execution_count": 32,
   "metadata": {},
   "outputs": [
    {
     "name": "stdout",
     "output_type": "stream",
     "text": [
      "0 s\n",
      "1 h\n",
      "2 u\n",
      "3 b\n",
      "4 h\n",
      "5 a\n",
      "6 m\n"
     ]
    }
   ],
   "source": [
    "# range function - range (start, stop, step)- range(10)- 0 to 9\n",
    "# range(0, 10, 2) - 0,2,4,6,8\n",
    "for i in range(0, len(str1)):\n",
    "    print(i, str1[i])"
   ]
  },
  {
   "cell_type": "code",
   "execution_count": 2,
   "metadata": {},
   "outputs": [
    {
     "ename": "NameError",
     "evalue": "name 'str1' is not defined",
     "output_type": "error",
     "traceback": [
      "\u001b[0;31m---------------------------------------------------------------------------\u001b[0m",
      "\u001b[0;31mNameError\u001b[0m                                 Traceback (most recent call last)",
      "Cell \u001b[0;32mIn[2], line 1\u001b[0m\n\u001b[0;32m----> 1\u001b[0m \u001b[38;5;28;01mwhile\u001b[39;00m i \u001b[38;5;129;01min\u001b[39;00m \u001b[38;5;28mrange\u001b[39m(\u001b[38;5;241m0\u001b[39m, \u001b[38;5;28mlen\u001b[39m(\u001b[43mstr1\u001b[49m)):\n\u001b[1;32m      2\u001b[0m     \u001b[38;5;28mprint\u001b[39m(i, str1[i])\n\u001b[1;32m      3\u001b[0m     i\u001b[38;5;241m=\u001b[39m i\u001b[38;5;241m+\u001b[39m\u001b[38;5;241m1\u001b[39m\n",
      "\u001b[0;31mNameError\u001b[0m: name 'str1' is not defined"
     ]
    }
   ],
   "source": [
    "\n",
    "while i in range(0, len(str1)):\n",
    "    print(i, str1[i])\n",
    "    i= i+1\n",
    "# what is the ouptput 6 m means - 6th index is m"
   ]
  },
  {
   "cell_type": "code",
   "execution_count": null,
   "metadata": {},
   "outputs": [],
   "source": [
    "# hw break, continue, pass"
   ]
  },
  {
   "cell_type": "code",
   "execution_count": 1,
   "metadata": {},
   "outputs": [
    {
     "name": "stdout",
     "output_type": "stream",
     "text": [
      "1 2 3 4 5 6 7 8 9 10 "
     ]
    }
   ],
   "source": [
    "# print 1 to 10 on the same line\n",
    "for i in range(1,11):\n",
    "    print(i, end=' ')"
   ]
  },
  {
   "cell_type": "code",
   "execution_count": 36,
   "metadata": {},
   "outputs": [
    {
     "name": "stdout",
     "output_type": "stream",
     "text": [
      "4\n"
     ]
    }
   ],
   "source": [
    "# ternieary operator\n",
    "# ? : \n",
    "# exp1 if condition else exp2- if condition is true exp1 is executed else exp2 is executed\n",
    "a=4\n",
    "b=2\n",
    "c= a if a>b else b\n",
    "print(c) "
   ]
  },
  {
   "cell_type": "code",
   "execution_count": null,
   "metadata": {},
   "outputs": [],
   "source": []
  }
 ],
 "metadata": {
  "kernelspec": {
   "display_name": "Python 3",
   "language": "python",
   "name": "python3"
  },
  "language_info": {
   "codemirror_mode": {
    "name": "ipython",
    "version": 3
   },
   "file_extension": ".py",
   "mimetype": "text/x-python",
   "name": "python",
   "nbconvert_exporter": "python",
   "pygments_lexer": "ipython3",
   "version": "3.11.4"
  }
 },
 "nbformat": 4,
 "nbformat_minor": 2
}
