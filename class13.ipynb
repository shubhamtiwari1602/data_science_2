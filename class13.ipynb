{
 "cells": [
  {
   "cell_type": "code",
   "execution_count": 1,
   "metadata": {},
   "outputs": [
    {
     "name": "stdout",
     "output_type": "stream",
     "text": [
      "Class13\n"
     ]
    }
   ],
   "source": [
    "print(\"Class13\")"
   ]
  },
  {
   "cell_type": "code",
   "execution_count": 3,
   "metadata": {},
   "outputs": [
    {
     "name": "stdout",
     "output_type": "stream",
     "text": [
      "(3+4j)\n"
     ]
    }
   ],
   "source": [
    "#  _ notionally private\n",
    "#  __ strictly private\n",
    "print(complex(3,4))\n"
   ]
  },
  {
   "cell_type": "code",
   "execution_count": 11,
   "metadata": {},
   "outputs": [
    {
     "name": "stdout",
     "output_type": "stream",
     "text": [
      "<__main__.complex_class object at 0x10c667550>\n",
      "4 + 5 j\n",
      "5 + 7 j\n",
      "-9 + -11 j\n"
     ]
    }
   ],
   "source": [
    "class complex_class:\n",
    "    def __init__(self,x=0,y=0):\n",
    "        self.real= x\n",
    "        self.img= y\n",
    "        print(self)\n",
    "        \n",
    "    def printout(self):\n",
    "        print(self.real, \"+\", self.img, \"j\")\n",
    "\n",
    "    def complex_sum(self, x=0,y=0):\n",
    "        self.real= self.real + x\n",
    "        self.img= self.img + y\n",
    "        print(self.real, \"+\", self.img, \"j\")\n",
    "\n",
    "    def complex_multi(self, x=0,y=0):\n",
    "        self.real = self.real*x - self.img*y\n",
    "        self.img = self.real*y+self.img*x\n",
    "        print(self.real, \"+\", self.img, \"j\")\n",
    "\n",
    "s= complex_class(4,5)\n",
    "s.printout()\n",
    "#  do addition , multiplication on complex number\n",
    "s.complex_sum(1,2)\n",
    "s.complex_multi(1,2)"
   ]
  },
  {
   "cell_type": "code",
   "execution_count": null,
   "metadata": {},
   "outputs": [
    {
     "name": "stdout",
     "output_type": "stream",
     "text": [
      "6 + 8 j\n",
      "-2 + -2 j\n",
      "-7 + 25 j\n"
     ]
    }
   ],
   "source": [
    "class complex_class:\n",
    "    def __init__(self,x=0,y=0):\n",
    "        self.real= x \n",
    "        self.img= y \n",
    "        \n",
    "        \n",
    "    def printout(self):\n",
    "        print(self.real, \"+\", self.img, \"j\")\n",
    "\n",
    "    def __complex_sum__(self, other):\n",
    "        s= complex_class()\n",
    "        s.real= self.real + other.real \n",
    "        s.img= self.img + other.img \n",
    "        return s\n",
    "\n",
    "    def __complex_multi__(self, other):\n",
    "        s= complex_class()\n",
    "        s.real = self.real*other.real - self.img*other.img\n",
    "        s.img = self.real*other.img+self.img*other.img\n",
    "        return s\n",
    "    def __complex_sub__(self, other):\n",
    "        s= complex_class() \n",
    "        s.real= self.real - other.real \n",
    "        s.img= self.img - other.img\n",
    "        return s\n",
    "s= complex_class(4,5) \n",
    "s1= complex_class(2,3)\n",
    "\n",
    "s3=(s1.__complex_sum__(s)) # operator overloading\n",
    "s3.printout()\n",
    "s4= (s1.__complex_sub__(s))\n",
    "s4.printout()\n",
    "s5= s1.__complex_multi__(s)\n",
    "s5.printout()\n",
    "\n",
    "#  do addition , multiplication on complex number\n",
    "# # Dash overloading - \n",
    "# function overloading - "
   ]
  },
  {
   "cell_type": "code",
   "execution_count": 23,
   "metadata": {},
   "outputs": [],
   "source": [
    "# inheritence \n",
    "# deriving the class from a class\n",
    "# containership \n",
    "# multiple inheritence"
   ]
  },
  {
   "cell_type": "code",
   "execution_count": 27,
   "metadata": {},
   "outputs": [
    {
     "name": "stdout",
     "output_type": "stream",
     "text": [
      "[2, 4, 6]\n"
     ]
    }
   ],
   "source": [
    "class Matrix:\n",
    "    def __init__(self, a=[], b=[]):\n",
    "        self.mat_a = a\n",
    "        self.mat_b = b\n",
    "\n",
    "    def sum(self):\n",
    "        c = []\n",
    "        for i in range(len(self.mat_a)):\n",
    "            c.append(self.mat_a[i] + self.mat_b[i])\n",
    "        return c\n",
    "\n",
    "# Example usage\n",
    "arr1 = [1, 2, 3]\n",
    "arr2 = [1, 2, 3]\n",
    "arr3 = Matrix(arr1, arr2)\n",
    "result = arr3.sum()\n",
    "print(result)  # Output: [2, 4, 6]"
   ]
  },
  {
   "cell_type": "code",
   "execution_count": null,
   "metadata": {},
   "outputs": [],
   "source": [
    "class ComplexNumber:\n",
    "    def __init__(self, real, imag):\n",
    "        self.real = real\n",
    "        self.imag = imag\n",
    "\n",
    "    def __mul__(self, other):\n",
    "        # Multiplying two complex numbers: (a + bi) * (c + di) = (ac - bd) + (ad + bc)i\n",
    "        real_part = self.real * other.real - self.imag * other.imag\n",
    "        imag_part = self.real * other.imag + self.imag * other.real\n",
    "        return ComplexNumber(real_part, imag_part)\n",
    "\n",
    "    def __str__(self):\n",
    "        return f\"{self.real} + {self.imag}i\"\n",
    "\n",
    "# Example usage\n",
    "c1 = ComplexNumber(3, 2)\n",
    "c2 = ComplexNumber(1, 7)\n",
    "result = c1 * c2\n",
    "print(result)  # Output: -11 + 23i"
   ]
  },
  {
   "cell_type": "markdown",
   "metadata": {},
   "source": [
    "Operator overloading allows you to define how operators behave for user-defined types. In Python, you can overload operators by defining special methods in your class. Here's an example of how to overload the addition and multiplication operators for a `Matrix` class:\n",
    "\n"
   ]
  },
  {
   "cell_type": "code",
   "execution_count": null,
   "metadata": {},
   "outputs": [],
   "source": [
    "class Matrix:\n",
    "    def __init__(self, data):\n",
    "        self.data = data\n",
    "\n",
    "    def __add__(self, other):\n",
    "        # Ensure matrices have the same dimensions\n",
    "        if len(self.data) != len(other.data) or len(self.data[0]) != len(other.data[0]):\n",
    "            raise ValueError(\"Matrices must have the same dimensions for addition\")\n",
    "        \n",
    "        result = []\n",
    "        for i in range(len(self.data)):\n",
    "            row = []\n",
    "            for j in range(len(self.data[0])):\n",
    "                row.append(self.data[i][j] + other.data[i][j])\n",
    "            result.append(row)\n",
    "        return Matrix(result)\n",
    "\n",
    "    def __mul__(self, other):\n",
    "        # Ensure the number of columns in the first matrix equals the number of rows in the second matrix\n",
    "        if len(self.data[0]) != len(other.data):\n",
    "            raise ValueError(\"Number of columns in the first matrix must equal the number of rows in the second matrix for multiplication\")\n",
    "        \n",
    "        result = []\n",
    "        for i in range(len(self.data)):\n",
    "            row = []\n",
    "            for j in range(len(other.data[0])):\n",
    "                sum = 0\n",
    "                for k in range(len(self.data[0])):\n",
    "                    sum += self.data[i][k] * other.data[k][j]\n",
    "                row.append(sum)\n",
    "            result.append(row)\n",
    "        return Matrix(result)\n",
    "\n",
    "    def __str__(self):\n",
    "        return '\\n'.join([' '.join(map(str, row)) for row in self.data])\n",
    "\n",
    "# Example usage\n",
    "matrix1 = Matrix([[1, 2], [3, 4]])\n",
    "matrix2 = Matrix([[5, 6], [7, 8]])\n",
    "\n",
    "# Matrix addition\n",
    "sum_matrix = matrix1 + matrix2\n",
    "print(\"Sum of matrices:\")\n",
    "print(sum_matrix)\n",
    "\n",
    "# Matrix multiplication\n",
    "product_matrix = matrix1 * matrix2\n",
    "print(\"\\nProduct of matrices:\")\n",
    "print(product_matrix)"
   ]
  },
  {
   "cell_type": "markdown",
   "metadata": {},
   "source": [
    "\n",
    "\n",
    "In this code:\n",
    "- The `Matrix` class represents a matrix with a 2D list `data`.\n",
    "- The `__add__` method is overloaded to perform element-wise addition of two matrices.\n",
    "- The `__mul__` method is overloaded to perform matrix multiplication.\n",
    "- The `__str__` method is overridden to provide a string representation of the matrix for easy printing.\n",
    "\n",
    "The example usage demonstrates creating two matrices, adding them, and multiplying them, with the results being printed.\n",
    "\n",
    "Similar code found with 1 license type"
   ]
  }
 ],
 "metadata": {
  "kernelspec": {
   "display_name": "Python 3",
   "language": "python",
   "name": "python3"
  },
  "language_info": {
   "codemirror_mode": {
    "name": "ipython",
    "version": 3
   },
   "file_extension": ".py",
   "mimetype": "text/x-python",
   "name": "python",
   "nbconvert_exporter": "python",
   "pygments_lexer": "ipython3",
   "version": "3.11.4"
  }
 },
 "nbformat": 4,
 "nbformat_minor": 2
}
