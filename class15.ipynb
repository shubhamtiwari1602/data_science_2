{
 "cells": [
  {
   "cell_type": "code",
   "execution_count": 1,
   "metadata": {},
   "outputs": [
    {
     "name": "stdout",
     "output_type": "stream",
     "text": [
      "class15\n"
     ]
    }
   ],
   "source": [
    "print(\"class15\")"
   ]
  },
  {
   "cell_type": "code",
   "execution_count": 8,
   "metadata": {},
   "outputs": [
    {
     "data": {
      "text/plain": [
       "[[1, 1, 1, 1, 1], [1, 1, 1, 1, 1], [1, 1, 1, 1, 1]]"
      ]
     },
     "execution_count": 8,
     "metadata": {},
     "output_type": "execute_result"
    }
   ],
   "source": [
    "# matrix: n x m \n",
    "class matrix:\n",
    "    def __init__(self, x,y):\n",
    "        self.row=x\n",
    "        self.col=y\n",
    "    def input_matrix(self):\n",
    "        m=[]\n",
    "        for i in range(self.row):\n",
    "            m.append([])\n",
    "            for j in range(self.col):\n",
    "                m[i].append(int(input()))\n",
    "        return m\n",
    "                \n",
    "n = int(input(\"No. of rows\"))\n",
    "m = int(input(\"No. of col\"))\n",
    "a= matrix(n,m)\n",
    "a.input_matrix()\n",
    "        "
   ]
  },
  {
   "cell_type": "code",
   "execution_count": 10,
   "metadata": {},
   "outputs": [
    {
     "name": "stdout",
     "output_type": "stream",
     "text": [
      "Inside base constructor\n",
      "Inside base2 constructor\n",
      "Inside child constructor\n",
      "Base Print :  Ram\n",
      "Base2 Print :  Ram\n",
      "Child Print :  Ram\n"
     ]
    }
   ],
   "source": [
    "# multi level inheritance\n",
    "class base:\n",
    "    def __init__(self,name):\n",
    "        self.name=name\n",
    "        print(\"Inside base constructor\")\n",
    "    def printbase(self):\n",
    "        print(\"Base Print : \", self.name)\n",
    "\n",
    "class base2(base):\n",
    "    def __init__(self, name):\n",
    "        super().__init__(name)\n",
    "        print(\"Inside base2 constructor\")\n",
    "    def printbase2(self):\n",
    "        print(\"Base2 Print : \", self.name)\n",
    "\n",
    "class child(base2):\n",
    "    def __init__(self, name):\n",
    "        super().__init__(name)\n",
    "        print(\"Inside child constructor\")\n",
    "    def printchild(self):\n",
    "        print(\"Child Print : \", self.name)    \n",
    "a = child(\"Ram\")\n",
    "a.printbase()\n",
    "a.printbase2()\n",
    "a.printchild()"
   ]
  },
  {
   "cell_type": "code",
   "execution_count": null,
   "metadata": {},
   "outputs": [
    {
     "name": "stdout",
     "output_type": "stream",
     "text": [
      "Inside base constructor\n",
      "Inside base constructor\n",
      "Inside base2 constructor\n",
      "Inside multi_inh constructor\n",
      "Base Print :  p4\n",
      "Base2 Print :  p4\n",
      "multiple Print :  p4\n"
     ]
    }
   ],
   "source": [
    "class multiple_inh(base2,base):\n",
    "    def __init__(self, name1,name2):\n",
    "        #super().__init__(name)\n",
    "        base.__init__(self,name1)\n",
    "        base2.__init__(self,name2)\n",
    "        self.name1=name1\n",
    "        self.name2=name2\n",
    "        print(\"Inside multi_inh constructor\")\n",
    "    def printmultiple(self):\n",
    "        print(\"multiple Print : \", self.name)\n",
    "# p1= base(\"p1\")\n",
    "# p2= base2(\"p2\")\n",
    "p3= multiple_inh(\"p3\",\"p4\")\n",
    "p3.printbase()\n",
    "p3.printbase2()\n",
    "p3.printmultiple()"
   ]
  },
  {
   "cell_type": "code",
   "execution_count": null,
   "metadata": {},
   "outputs": [
    {
     "name": "stdout",
     "output_type": "stream",
     "text": [
      "\u001b[31mERROR: Could not find a version that satisfies the requirement pyqt (from versions: none)\u001b[0m\u001b[31m\n",
      "\u001b[0m\u001b[31mERROR: No matching distribution found for pyqt\u001b[0m\u001b[31m\n",
      "\u001b[0m\n",
      "\u001b[1m[\u001b[0m\u001b[34;49mnotice\u001b[0m\u001b[1;39;49m]\u001b[0m\u001b[39;49m A new release of pip is available: \u001b[0m\u001b[31;49m23.3.2\u001b[0m\u001b[39;49m -> \u001b[0m\u001b[32;49m25.0.1\u001b[0m\n",
      "\u001b[1m[\u001b[0m\u001b[34;49mnotice\u001b[0m\u001b[1;39;49m]\u001b[0m\u001b[39;49m To update, run: \u001b[0m\u001b[32;49mpip install --upgrade pip\u001b[0m\n"
     ]
    }
   ],
   "source": [
    "# try to py-qt make gui\n",
    "#  input from class disply using qt window\n",
    "# !pip3 install pyqt\n",
    "# inherit - class derived from matrix class and complex class - to display complex matrix"
   ]
  },
  {
   "cell_type": "code",
   "execution_count": 23,
   "metadata": {},
   "outputs": [
    {
     "name": "stdout",
     "output_type": "stream",
     "text": [
      "Requirement already satisfied: pip in /Library/Frameworks/Python.framework/Versions/3.11/lib/python3.11/site-packages (23.3.2)\n",
      "Collecting pip\n",
      "  Downloading pip-25.0.1-py3-none-any.whl.metadata (3.7 kB)\n",
      "Downloading pip-25.0.1-py3-none-any.whl (1.8 MB)\n",
      "\u001b[2K   \u001b[90m━━━━━━━━━━━━━━━━━━━━━━━━━━━━━━━━━━━━━━━━\u001b[0m \u001b[32m1.8/1.8 MB\u001b[0m \u001b[31m9.1 MB/s\u001b[0m eta \u001b[36m0:00:00\u001b[0ma \u001b[36m0:00:01\u001b[0m\n",
      "\u001b[?25hInstalling collected packages: pip\n",
      "  Attempting uninstall: pip\n",
      "    Found existing installation: pip 23.3.2\n",
      "    Uninstalling pip-23.3.2:\n",
      "      Successfully uninstalled pip-23.3.2\n",
      "Successfully installed pip-25.0.1\n"
     ]
    }
   ],
   "source": [
    "!pip3 install --upgrade pip"
   ]
  },
  {
   "cell_type": "code",
   "execution_count": null,
   "metadata": {},
   "outputs": [],
   "source": [
    "#  write class for multiple inheritance with same variable name and then check which one gets printed\n",
    "# two level inheritance, then pass both in another class - see that\n"
   ]
  }
 ],
 "metadata": {
  "kernelspec": {
   "display_name": "Python 3",
   "language": "python",
   "name": "python3"
  },
  "language_info": {
   "codemirror_mode": {
    "name": "ipython",
    "version": 3
   },
   "file_extension": ".py",
   "mimetype": "text/x-python",
   "name": "python",
   "nbconvert_exporter": "python",
   "pygments_lexer": "ipython3",
   "version": "3.11.4"
  }
 },
 "nbformat": 4,
 "nbformat_minor": 2
}
