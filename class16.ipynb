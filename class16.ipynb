{
 "cells": [
  {
   "cell_type": "code",
   "execution_count": 1,
   "metadata": {},
   "outputs": [
    {
     "name": "stdout",
     "output_type": "stream",
     "text": [
      "class16\n"
     ]
    }
   ],
   "source": [
    "print(\"class16\")"
   ]
  },
  {
   "cell_type": "code",
   "execution_count": 2,
   "metadata": {},
   "outputs": [],
   "source": [
    "# file input / output\n"
   ]
  },
  {
   "cell_type": "code",
   "execution_count": null,
   "metadata": {},
   "outputs": [],
   "source": [
    "# open a file, read/ write , close the file\n",
    "# f = open('filename', 'mode') # f - file pointer\n",
    "f = open('filename.txt', 'w') # w- write creates a file, if not there\n",
    "#  r - read\n",
    "f = open('filename.txt', 'r') # error if file not there"
   ]
  },
  {
   "cell_type": "code",
   "execution_count": null,
   "metadata": {},
   "outputs": [],
   "source": [
    "f = open('filename.txt', 'w')\n",
    "#  both r and w will always be in the form of string"
   ]
  },
  {
   "cell_type": "code",
   "execution_count": 8,
   "metadata": {},
   "outputs": [
    {
     "ename": "ValueError",
     "evalue": "I/O operation on closed file.",
     "output_type": "error",
     "traceback": [
      "\u001b[0;31m---------------------------------------------------------------------------\u001b[0m",
      "\u001b[0;31mValueError\u001b[0m                                Traceback (most recent call last)",
      "Cell \u001b[0;32mIn[8], line 2\u001b[0m\n\u001b[1;32m      1\u001b[0m msg1 \u001b[38;5;241m=\u001b[39m \u001b[38;5;124m\"\u001b[39m\u001b[38;5;124mShubham Tiwari\u001b[39m\u001b[38;5;124m\"\u001b[39m\n\u001b[0;32m----> 2\u001b[0m \u001b[43mf\u001b[49m\u001b[38;5;241;43m.\u001b[39;49m\u001b[43mwrite\u001b[49m\u001b[43m(\u001b[49m\u001b[43mmsg1\u001b[49m\u001b[43m)\u001b[49m\n\u001b[1;32m      3\u001b[0m f\u001b[38;5;241m.\u001b[39mclose()\n",
      "\u001b[0;31mValueError\u001b[0m: I/O operation on closed file."
     ]
    }
   ],
   "source": [
    "msg1 = \"Shubham Tiwari\"\n",
    "f.write(msg1)\n",
    "f.close()"
   ]
  },
  {
   "cell_type": "code",
   "execution_count": 9,
   "metadata": {},
   "outputs": [],
   "source": [
    "f = open('filename.txt', 'w')\n",
    "msg1 = \"Shubham Tiwari\"\n",
    "f.write(msg1)\n",
    "f.close()"
   ]
  },
  {
   "cell_type": "code",
   "execution_count": 12,
   "metadata": {},
   "outputs": [
    {
     "name": "stdout",
     "output_type": "stream",
     "text": [
      "10\n",
      "<class 'str'>\n"
     ]
    }
   ],
   "source": [
    "g = open('context.txt', 'r')\n",
    "data = g.read()\n",
    "print(data)\n",
    "print(type(data))\n",
    "g.close()"
   ]
  },
  {
   "cell_type": "code",
   "execution_count": null,
   "metadata": {},
   "outputs": [
    {
     "name": "stdout",
     "output_type": "stream",
     "text": [
      "Shubham Tiwari\n",
      "<class 'str'>\n"
     ]
    }
   ],
   "source": [
    "g = open('filename.txt', 'r')\n",
    "data = g.read()\n",
    "print(data) \n",
    "print(type(data))\n",
    "g.close() "
   ]
  },
  {
   "cell_type": "code",
   "execution_count": 22,
   "metadata": {},
   "outputs": [
    {
     "name": "stdout",
     "output_type": "stream",
     "text": [
      "10\n",
      "20\n",
      "\n",
      "\n",
      "10\n",
      "\n",
      "20\n",
      "\n",
      "\n",
      "sum: 30\n"
     ]
    }
   ],
   "source": [
    "g = open('context.txt', 'r')\n",
    "data = g.read()\n",
    "print(data)\n",
    "print('\\n')\n",
    "print(data[0:2])\n",
    "print(data[2:5])\n",
    "print('\\n')\n",
    "a=int(data[0:2])\n",
    "b = int(data[2:5])\n",
    "print(\"sum:\",a+b)"
   ]
  },
  {
   "cell_type": "code",
   "execution_count": 25,
   "metadata": {},
   "outputs": [],
   "source": [
    "#  with - file gets open and close auto\n",
    "with open('context.txt','r') as f:\n",
    "    d= f.read()\n"
   ]
  },
  {
   "cell_type": "code",
   "execution_count": null,
   "metadata": {},
   "outputs": [],
   "source": [
    "with open('context.txt','w') as f:\n",
    "    d= f.write(\"12344\")\n",
    "# everythng which was there got erased and 12344 shows in file\n",
    "# how to retain the old content and write new one\n"
   ]
  },
  {
   "cell_type": "code",
   "execution_count": 28,
   "metadata": {},
   "outputs": [],
   "source": [
    "with open('context.txt','a') as f:\n",
    "    d= f.write(\"12\")\n",
    "    "
   ]
  },
  {
   "cell_type": "code",
   "execution_count": null,
   "metadata": {},
   "outputs": [],
   "source": [
    "with open('context.txt','a') as f:\n",
    "    d= f.write(\" 125678\")\n",
    "    "
   ]
  },
  {
   "cell_type": "code",
   "execution_count": null,
   "metadata": {},
   "outputs": [],
   "source": [
    "with open('context.txt','a') as f: # append mode - append at the end\n",
    "    d= f.write(\" 1258\")\n",
    "    "
   ]
  },
  {
   "cell_type": "code",
   "execution_count": 34,
   "metadata": {},
   "outputs": [],
   "source": [
    "# how to append at the start\n",
    "with open('context.txt','a') as f:\n",
    "    f.seek(0,0)\n",
    "    d= f.write(\" wfw\")"
   ]
  },
  {
   "cell_type": "code",
   "execution_count": 39,
   "metadata": {},
   "outputs": [
    {
     "name": "stdout",
     "output_type": "stream",
     "text": [
      "posix\n",
      "/Users/shubhamtiwari/Documents/ed data\n",
      "['.cph', 'claass9.ipynb', 'class3.ipynb', 'class7.ipynb', '.DS_Store', 'abc1.cpp', 'abc2.cpp', 'abc.bin', 'class5.ipynb', 'class2.ipynb', 'lab', 'filename.txt', 'me22b196_lab1.zip', 'class4.ipynb', 'class6.ipynb', 'me22b196_lab1', 'class16.ipynb', 'class14.ipynb', 'class8.ipynb', 'first.py', 'abc2.bin', 'abc.cpp', 'class2 copy.ipynb', 'class10.ipynb', 'abc1.bin', 'class12.ipynb', 'class15.ipynb', '.vscode', 'context.txt', 'class13.ipynb', 'class11.ipynb']\n",
      "['mill test dev', 'Cline', '.DS_Store', 'mill_test_quant', '.localized', 'Loading._.pdf', 'treq ppt', 'mic', 'EE22B030.pdf', 'my_website', 'ed data', 'mill ppt', 'imc ppt', 'OneDrive - smail.iitm.ac.in', 'cpp_dsa']\n"
     ]
    }
   ],
   "source": [
    "# to create a directory\n",
    "import os\n",
    "import shutil\n",
    "print(os.name)\n",
    "print(os.getcwd())\n",
    "print(os.listdir('.'))\n",
    "print(os.listdir('..'))"
   ]
  },
  {
   "cell_type": "code",
   "execution_count": null,
   "metadata": {},
   "outputs": [],
   "source": [
    "os.mkdir(\"test_\")\n",
    "# how to remove duplicates files\n"
   ]
  },
  {
   "cell_type": "code",
   "execution_count": 44,
   "metadata": {},
   "outputs": [
    {
     "name": "stdout",
     "output_type": "stream",
     "text": [
      "name,gender,year\n",
      "shubham,male,2005\n",
      "gv,male,2004\n",
      "mk,female,2004\n"
     ]
    }
   ],
   "source": [
    "# csv file\n",
    "\n",
    "with open ('test.csv','r') as f:\n",
    "    data = f.read()\n",
    "    print(data)"
   ]
  },
  {
   "cell_type": "code",
   "execution_count": 45,
   "metadata": {},
   "outputs": [],
   "source": [
    "import csv\n",
    "with open ('test.csv') as csv_file:\n",
    "    csv_reader = csv.reader(csv_file, delimiter=',')\n",
    "    line_count=0\n",
    "    x=[]\n",
    "    y=[]\n",
    "    "
   ]
  },
  {
   "cell_type": "code",
   "execution_count": 48,
   "metadata": {},
   "outputs": [
    {
     "name": "stdout",
     "output_type": "stream",
     "text": [
      "headers name. gender. year\n"
     ]
    }
   ],
   "source": [
    "with open ('test.csv') as csv_file:\n",
    "    csv_reader = csv.reader(csv_file, delimiter=',')\n",
    "    line_count=0\n",
    "    for row in csv_reader:\n",
    "        if line_count==0:\n",
    "            print(f'headers {\". \".join(row)}')\n",
    "            line_count+=1\n",
    "        "
   ]
  },
  {
   "cell_type": "code",
   "execution_count": null,
   "metadata": {},
   "outputs": [
    {
     "name": "stdout",
     "output_type": "stream",
     "text": [
      "hi\n"
     ]
    }
   ],
   "source": [
    "print(\"hi\""
   ]
  },
  {
   "cell_type": "code",
   "execution_count": null,
   "metadata": {},
   "outputs": [],
   "source": []
  }
 ],
 "metadata": {
  "kernelspec": {
   "display_name": "Python 3",
   "language": "python",
   "name": "python3"
  },
  "language_info": {
   "codemirror_mode": {
    "name": "ipython",
    "version": 3
   },
   "file_extension": ".py",
   "mimetype": "text/x-python",
   "name": "python",
   "nbconvert_exporter": "python",
   "pygments_lexer": "ipython3",
   "version": "3.11.4"
  }
 },
 "nbformat": 4,
 "nbformat_minor": 2
}
