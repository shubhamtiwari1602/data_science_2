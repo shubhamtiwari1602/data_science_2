{
 "cells": [
  {
   "cell_type": "code",
   "execution_count": 1,
   "metadata": {},
   "outputs": [
    {
     "name": "stdout",
     "output_type": "stream",
     "text": [
      "class14\n"
     ]
    }
   ],
   "source": [
    "print(\"class14\")"
   ]
  },
  {
   "cell_type": "code",
   "execution_count": 3,
   "metadata": {},
   "outputs": [],
   "source": [
    "# base classes- existing class - super class - parent class\n",
    "# derived class - derived from base class - subclass - child class"
   ]
  },
  {
   "cell_type": "code",
   "execution_count": 4,
   "metadata": {},
   "outputs": [],
   "source": [
    "# containershio\n",
    "# class Derived(Base): "
   ]
  },
  {
   "cell_type": "code",
   "execution_count": null,
   "metadata": {},
   "outputs": [
    {
     "name": "stdout",
     "output_type": "stream",
     "text": [
      "Inside the derived class\n",
      "Inside the base class\n",
      "50\n",
      "R\n",
      "R\n",
      "Inside the base class\n",
      "shubham\n"
     ]
    }
   ],
   "source": [
    "class Base :\n",
    "    def __init__(self,name):\n",
    "        self.name = name\n",
    "        print(\"Inside the base class\")\n",
    "    def printbase(self):\n",
    "        print(self.name)\n",
    "class Derived(Base):\n",
    "    def __init__(self,roll, name):\n",
    "        self.roll= roll\n",
    "        print(\"Inside the derived class\")\n",
    "        super().__init__(name) # w/o this name is not recognized\n",
    "    def printderived(self):\n",
    "        print(self.roll)\n",
    "        print(self.name)\n",
    "    \n",
    "d1= Derived(50,'R')  \n",
    "d1.printderived()\n",
    "d1.printbase()\n",
    "d2 = Base(\"shubham\")\n",
    "d2.printbase()\n",
    "# d2.printderived() - error as printderived is not there in base\n",
    "# if we have fxn of same name in both class\n",
    "# if we make var private in base class, we cannot access it from child class"
   ]
  },
  {
   "cell_type": "code",
   "execution_count": null,
   "metadata": {},
   "outputs": [],
   "source": [
    "# complex class - base class and derived class\n",
    "class complex_base:\n",
    "    def __init__(self,a=0,b=0):\n",
    "        self.real=a\n",
    "        self.img=b\n",
    "class complex_sum(complex_base,complex_base):\n",
    "    def __init__(self, a=0, b=0):\n",
    "        super().__init__(a, b)\n",
    "    def sum(self):\n",
    "        \n",
    "        \n",
    "        \n",
    "    "
   ]
  },
  {
   "cell_type": "markdown",
   "metadata": {},
   "source": [
    "Sure, I'll help you complete the `complex_sum` class to perform the addition of two complex numbers. Here's the code:\n",
    "\n"
   ]
  },
  {
   "cell_type": "code",
   "execution_count": null,
   "metadata": {},
   "outputs": [],
   "source": [
    "class ComplexBase:\n",
    "    def __init__(self, a=0, b=0):\n",
    "        self.real = a\n",
    "        self.img = b\n",
    "\n",
    "class ComplexSum(ComplexBase):\n",
    "    def __init__(self, a=0, b=0):\n",
    "        super().__init__(a, b)\n",
    "\n",
    "    def sum(self, other):\n",
    "        result_real = self.real + other.real\n",
    "        result_img = self.img + other.img\n",
    "        return ComplexBase(result_real, result_img)\n",
    "\n",
    "    def __str__(self):\n",
    "        return f\"{self.real} + {self.img}i\"\n",
    "\n",
    "# Example usage\n",
    "c1 = ComplexSum(3, 2)\n",
    "c2 = ComplexSum(1, 7)\n",
    "result = c1.sum(c2)\n",
    "print(result)  # Output: 4 + 9i"
   ]
  },
  {
   "cell_type": "markdown",
   "metadata": {},
   "source": [
    "\n",
    "\n",
    "In this code:\n",
    "- `ComplexBase` is the base class representing a complex number with real and imaginary parts.\n",
    "- `ComplexSum` is the derived class that inherits from `ComplexBase` and includes a method `sum` to add two complex numbers.\n",
    "- The `sum` method takes another complex number as an argument, adds the real and imaginary parts, and returns a new `ComplexBase` instance with the result.\n",
    "- The `__str__` method is overridden to provide a string representation of the complex number for easy printing.\n",
    "\n",
    "The example usage demonstrates creating two complex numbers, adding them, and printing the result."
   ]
  }
 ],
 "metadata": {
  "kernelspec": {
   "display_name": "Python 3",
   "language": "python",
   "name": "python3"
  },
  "language_info": {
   "codemirror_mode": {
    "name": "ipython",
    "version": 3
   },
   "file_extension": ".py",
   "mimetype": "text/x-python",
   "name": "python",
   "nbconvert_exporter": "python",
   "pygments_lexer": "ipython3",
   "version": "3.11.4"
  }
 },
 "nbformat": 4,
 "nbformat_minor": 2
}
